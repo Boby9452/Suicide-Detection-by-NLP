{
  "cells": [
    {
      "cell_type": "code",
      "execution_count": 15,
      "id": "5cb1fe57",
      "metadata": {
        "_cell_guid": "b1076dfc-b9ad-4769-8c92-a6c4dae69d19",
        "_uuid": "8f2839f25d086af736a60e9eeb907d3b93b6e0e5",
        "execution": {
          "iopub.execute_input": "2023-04-25T10:48:23.272105Z",
          "iopub.status.busy": "2023-04-25T10:48:23.271523Z",
          "iopub.status.idle": "2023-04-25T10:48:25.103527Z",
          "shell.execute_reply": "2023-04-25T10:48:25.102176Z"
        },
        "papermill": {
          "duration": 1.847199,
          "end_time": "2023-04-25T10:48:25.105855",
          "exception": false,
          "start_time": "2023-04-25T10:48:23.258656",
          "status": "completed"
        },
        "tags": [],
        "colab": {
          "base_uri": "https://localhost:8080/"
        },
        "id": "5cb1fe57",
        "outputId": "8a18e736-4e6c-424a-f3c3-2df79cb78c0b"
      },
      "outputs": [
        {
          "output_type": "stream",
          "name": "stderr",
          "text": [
            "[nltk_data] Downloading package stopwords to /root/nltk_data...\n",
            "[nltk_data]   Package stopwords is already up-to-date!\n",
            "[nltk_data] Downloading package punkt to /root/nltk_data...\n",
            "[nltk_data]   Unzipping tokenizers/punkt.zip.\n"
          ]
        }
      ],
      "source": [
        "\n",
        "import warnings\n",
        "warnings.filterwarnings('ignore')\n",
        "\n",
        "import numpy as np # linear algebra\n",
        "import pandas as pd # data processing, CSV file I/O (e.g. pd.read_csv)\n",
        "\n",
        "# Visualisation libraries\n",
        "import matplotlib.pyplot as plt\n",
        "import seaborn as sns\n",
        "\n",
        "# Machine Learning Libraries\n",
        "from sklearn.model_selection import train_test_split,GridSearchCV,RandomizedSearchCV\n",
        "from sklearn.feature_extraction.text import TfidfVectorizer\n",
        "from sklearn.feature_selection import SelectKBest,chi2,f_classif\n",
        "from sklearn.ensemble import RandomForestClassifier,VotingClassifier,AdaBoostClassifier,GradientBoostingClassifier,BaggingClassifier\n",
        "from sklearn.metrics import classification_report , confusion_matrix\n",
        "from sklearn.tree import DecisionTreeClassifier\n",
        "from xgboost import XGBClassifier\n",
        "from sklearn.neighbors import KNeighborsClassifier\n",
        "from sklearn.naive_bayes import GaussianNB, MultinomialNB, BernoulliNB\n",
        "\n",
        "import pickle\n",
        "import string\n",
        "\n",
        "# Text Processing libraries\n",
        "import nltk\n",
        "nltk.download('stopwords')\n",
        "nltk.download('punkt')\n",
        "from nltk.stem import PorterStemmer\n"
      ]
    },
    {
      "cell_type": "code",
      "source": [
        "from google.colab import drive\n",
        "drive.mount('/content/drive')"
      ],
      "metadata": {
        "colab": {
          "base_uri": "https://localhost:8080/"
        },
        "id": "v-PS5EipvX30",
        "outputId": "213c6c19-ff83-4323-cb58-2df48d86c642"
      },
      "id": "v-PS5EipvX30",
      "execution_count": 1,
      "outputs": [
        {
          "output_type": "stream",
          "name": "stdout",
          "text": [
            "Mounted at /content/drive\n"
          ]
        }
      ]
    },
    {
      "cell_type": "code",
      "execution_count": 3,
      "id": "85f1cc75",
      "metadata": {
        "execution": {
          "iopub.execute_input": "2023-04-25T10:48:25.132232Z",
          "iopub.status.busy": "2023-04-25T10:48:25.131219Z",
          "iopub.status.idle": "2023-04-25T10:48:29.175323Z",
          "shell.execute_reply": "2023-04-25T10:48:29.174375Z"
        },
        "papermill": {
          "duration": 4.058668,
          "end_time": "2023-04-25T10:48:29.177508",
          "exception": false,
          "start_time": "2023-04-25T10:48:25.118840",
          "status": "completed"
        },
        "tags": [],
        "colab": {
          "base_uri": "https://localhost:8080/",
          "height": 206
        },
        "id": "85f1cc75",
        "outputId": "e02af5bd-7411-4c86-f703-2da9e728ed5e"
      },
      "outputs": [
        {
          "output_type": "execute_result",
          "data": {
            "text/plain": [
              "   Unnamed: 0                                               text        class\n",
              "0           2  Ex Wife Threatening SuicideRecently I left my ...      suicide\n",
              "1           3  Am I weird I don't get affected by compliments...  non-suicide\n",
              "2           4  Finally 2020 is almost over... So I can never ...  non-suicide\n",
              "3           8          i need helpjust help me im crying so hard      suicide\n",
              "4           9  I’m so lostHello, my name is Adam (16) and I’v...      suicide"
            ],
            "text/html": [
              "\n",
              "  <div id=\"df-4215c1ee-92fc-4fe8-a6ae-0b3b6fee84d4\" class=\"colab-df-container\">\n",
              "    <div>\n",
              "<style scoped>\n",
              "    .dataframe tbody tr th:only-of-type {\n",
              "        vertical-align: middle;\n",
              "    }\n",
              "\n",
              "    .dataframe tbody tr th {\n",
              "        vertical-align: top;\n",
              "    }\n",
              "\n",
              "    .dataframe thead th {\n",
              "        text-align: right;\n",
              "    }\n",
              "</style>\n",
              "<table border=\"1\" class=\"dataframe\">\n",
              "  <thead>\n",
              "    <tr style=\"text-align: right;\">\n",
              "      <th></th>\n",
              "      <th>Unnamed: 0</th>\n",
              "      <th>text</th>\n",
              "      <th>class</th>\n",
              "    </tr>\n",
              "  </thead>\n",
              "  <tbody>\n",
              "    <tr>\n",
              "      <th>0</th>\n",
              "      <td>2</td>\n",
              "      <td>Ex Wife Threatening SuicideRecently I left my ...</td>\n",
              "      <td>suicide</td>\n",
              "    </tr>\n",
              "    <tr>\n",
              "      <th>1</th>\n",
              "      <td>3</td>\n",
              "      <td>Am I weird I don't get affected by compliments...</td>\n",
              "      <td>non-suicide</td>\n",
              "    </tr>\n",
              "    <tr>\n",
              "      <th>2</th>\n",
              "      <td>4</td>\n",
              "      <td>Finally 2020 is almost over... So I can never ...</td>\n",
              "      <td>non-suicide</td>\n",
              "    </tr>\n",
              "    <tr>\n",
              "      <th>3</th>\n",
              "      <td>8</td>\n",
              "      <td>i need helpjust help me im crying so hard</td>\n",
              "      <td>suicide</td>\n",
              "    </tr>\n",
              "    <tr>\n",
              "      <th>4</th>\n",
              "      <td>9</td>\n",
              "      <td>I’m so lostHello, my name is Adam (16) and I’v...</td>\n",
              "      <td>suicide</td>\n",
              "    </tr>\n",
              "  </tbody>\n",
              "</table>\n",
              "</div>\n",
              "    <div class=\"colab-df-buttons\">\n",
              "\n",
              "  <div class=\"colab-df-container\">\n",
              "    <button class=\"colab-df-convert\" onclick=\"convertToInteractive('df-4215c1ee-92fc-4fe8-a6ae-0b3b6fee84d4')\"\n",
              "            title=\"Convert this dataframe to an interactive table.\"\n",
              "            style=\"display:none;\">\n",
              "\n",
              "  <svg xmlns=\"http://www.w3.org/2000/svg\" height=\"24px\" viewBox=\"0 -960 960 960\">\n",
              "    <path d=\"M120-120v-720h720v720H120Zm60-500h600v-160H180v160Zm220 220h160v-160H400v160Zm0 220h160v-160H400v160ZM180-400h160v-160H180v160Zm440 0h160v-160H620v160ZM180-180h160v-160H180v160Zm440 0h160v-160H620v160Z\"/>\n",
              "  </svg>\n",
              "    </button>\n",
              "\n",
              "  <style>\n",
              "    .colab-df-container {\n",
              "      display:flex;\n",
              "      gap: 12px;\n",
              "    }\n",
              "\n",
              "    .colab-df-convert {\n",
              "      background-color: #E8F0FE;\n",
              "      border: none;\n",
              "      border-radius: 50%;\n",
              "      cursor: pointer;\n",
              "      display: none;\n",
              "      fill: #1967D2;\n",
              "      height: 32px;\n",
              "      padding: 0 0 0 0;\n",
              "      width: 32px;\n",
              "    }\n",
              "\n",
              "    .colab-df-convert:hover {\n",
              "      background-color: #E2EBFA;\n",
              "      box-shadow: 0px 1px 2px rgba(60, 64, 67, 0.3), 0px 1px 3px 1px rgba(60, 64, 67, 0.15);\n",
              "      fill: #174EA6;\n",
              "    }\n",
              "\n",
              "    .colab-df-buttons div {\n",
              "      margin-bottom: 4px;\n",
              "    }\n",
              "\n",
              "    [theme=dark] .colab-df-convert {\n",
              "      background-color: #3B4455;\n",
              "      fill: #D2E3FC;\n",
              "    }\n",
              "\n",
              "    [theme=dark] .colab-df-convert:hover {\n",
              "      background-color: #434B5C;\n",
              "      box-shadow: 0px 1px 3px 1px rgba(0, 0, 0, 0.15);\n",
              "      filter: drop-shadow(0px 1px 2px rgba(0, 0, 0, 0.3));\n",
              "      fill: #FFFFFF;\n",
              "    }\n",
              "  </style>\n",
              "\n",
              "    <script>\n",
              "      const buttonEl =\n",
              "        document.querySelector('#df-4215c1ee-92fc-4fe8-a6ae-0b3b6fee84d4 button.colab-df-convert');\n",
              "      buttonEl.style.display =\n",
              "        google.colab.kernel.accessAllowed ? 'block' : 'none';\n",
              "\n",
              "      async function convertToInteractive(key) {\n",
              "        const element = document.querySelector('#df-4215c1ee-92fc-4fe8-a6ae-0b3b6fee84d4');\n",
              "        const dataTable =\n",
              "          await google.colab.kernel.invokeFunction('convertToInteractive',\n",
              "                                                    [key], {});\n",
              "        if (!dataTable) return;\n",
              "\n",
              "        const docLinkHtml = 'Like what you see? Visit the ' +\n",
              "          '<a target=\"_blank\" href=https://colab.research.google.com/notebooks/data_table.ipynb>data table notebook</a>'\n",
              "          + ' to learn more about interactive tables.';\n",
              "        element.innerHTML = '';\n",
              "        dataTable['output_type'] = 'display_data';\n",
              "        await google.colab.output.renderOutput(dataTable, element);\n",
              "        const docLink = document.createElement('div');\n",
              "        docLink.innerHTML = docLinkHtml;\n",
              "        element.appendChild(docLink);\n",
              "      }\n",
              "    </script>\n",
              "  </div>\n",
              "\n",
              "\n",
              "<div id=\"df-6253e465-6f03-43fc-a771-102e4568bd97\">\n",
              "  <button class=\"colab-df-quickchart\" onclick=\"quickchart('df-6253e465-6f03-43fc-a771-102e4568bd97')\"\n",
              "            title=\"Suggest charts\"\n",
              "            style=\"display:none;\">\n",
              "\n",
              "<svg xmlns=\"http://www.w3.org/2000/svg\" height=\"24px\"viewBox=\"0 0 24 24\"\n",
              "     width=\"24px\">\n",
              "    <g>\n",
              "        <path d=\"M19 3H5c-1.1 0-2 .9-2 2v14c0 1.1.9 2 2 2h14c1.1 0 2-.9 2-2V5c0-1.1-.9-2-2-2zM9 17H7v-7h2v7zm4 0h-2V7h2v10zm4 0h-2v-4h2v4z\"/>\n",
              "    </g>\n",
              "</svg>\n",
              "  </button>\n",
              "\n",
              "<style>\n",
              "  .colab-df-quickchart {\n",
              "      --bg-color: #E8F0FE;\n",
              "      --fill-color: #1967D2;\n",
              "      --hover-bg-color: #E2EBFA;\n",
              "      --hover-fill-color: #174EA6;\n",
              "      --disabled-fill-color: #AAA;\n",
              "      --disabled-bg-color: #DDD;\n",
              "  }\n",
              "\n",
              "  [theme=dark] .colab-df-quickchart {\n",
              "      --bg-color: #3B4455;\n",
              "      --fill-color: #D2E3FC;\n",
              "      --hover-bg-color: #434B5C;\n",
              "      --hover-fill-color: #FFFFFF;\n",
              "      --disabled-bg-color: #3B4455;\n",
              "      --disabled-fill-color: #666;\n",
              "  }\n",
              "\n",
              "  .colab-df-quickchart {\n",
              "    background-color: var(--bg-color);\n",
              "    border: none;\n",
              "    border-radius: 50%;\n",
              "    cursor: pointer;\n",
              "    display: none;\n",
              "    fill: var(--fill-color);\n",
              "    height: 32px;\n",
              "    padding: 0;\n",
              "    width: 32px;\n",
              "  }\n",
              "\n",
              "  .colab-df-quickchart:hover {\n",
              "    background-color: var(--hover-bg-color);\n",
              "    box-shadow: 0 1px 2px rgba(60, 64, 67, 0.3), 0 1px 3px 1px rgba(60, 64, 67, 0.15);\n",
              "    fill: var(--button-hover-fill-color);\n",
              "  }\n",
              "\n",
              "  .colab-df-quickchart-complete:disabled,\n",
              "  .colab-df-quickchart-complete:disabled:hover {\n",
              "    background-color: var(--disabled-bg-color);\n",
              "    fill: var(--disabled-fill-color);\n",
              "    box-shadow: none;\n",
              "  }\n",
              "\n",
              "  .colab-df-spinner {\n",
              "    border: 2px solid var(--fill-color);\n",
              "    border-color: transparent;\n",
              "    border-bottom-color: var(--fill-color);\n",
              "    animation:\n",
              "      spin 1s steps(1) infinite;\n",
              "  }\n",
              "\n",
              "  @keyframes spin {\n",
              "    0% {\n",
              "      border-color: transparent;\n",
              "      border-bottom-color: var(--fill-color);\n",
              "      border-left-color: var(--fill-color);\n",
              "    }\n",
              "    20% {\n",
              "      border-color: transparent;\n",
              "      border-left-color: var(--fill-color);\n",
              "      border-top-color: var(--fill-color);\n",
              "    }\n",
              "    30% {\n",
              "      border-color: transparent;\n",
              "      border-left-color: var(--fill-color);\n",
              "      border-top-color: var(--fill-color);\n",
              "      border-right-color: var(--fill-color);\n",
              "    }\n",
              "    40% {\n",
              "      border-color: transparent;\n",
              "      border-right-color: var(--fill-color);\n",
              "      border-top-color: var(--fill-color);\n",
              "    }\n",
              "    60% {\n",
              "      border-color: transparent;\n",
              "      border-right-color: var(--fill-color);\n",
              "    }\n",
              "    80% {\n",
              "      border-color: transparent;\n",
              "      border-right-color: var(--fill-color);\n",
              "      border-bottom-color: var(--fill-color);\n",
              "    }\n",
              "    90% {\n",
              "      border-color: transparent;\n",
              "      border-bottom-color: var(--fill-color);\n",
              "    }\n",
              "  }\n",
              "</style>\n",
              "\n",
              "  <script>\n",
              "    async function quickchart(key) {\n",
              "      const quickchartButtonEl =\n",
              "        document.querySelector('#' + key + ' button');\n",
              "      quickchartButtonEl.disabled = true;  // To prevent multiple clicks.\n",
              "      quickchartButtonEl.classList.add('colab-df-spinner');\n",
              "      try {\n",
              "        const charts = await google.colab.kernel.invokeFunction(\n",
              "            'suggestCharts', [key], {});\n",
              "      } catch (error) {\n",
              "        console.error('Error during call to suggestCharts:', error);\n",
              "      }\n",
              "      quickchartButtonEl.classList.remove('colab-df-spinner');\n",
              "      quickchartButtonEl.classList.add('colab-df-quickchart-complete');\n",
              "    }\n",
              "    (() => {\n",
              "      let quickchartButtonEl =\n",
              "        document.querySelector('#df-6253e465-6f03-43fc-a771-102e4568bd97 button');\n",
              "      quickchartButtonEl.style.display =\n",
              "        google.colab.kernel.accessAllowed ? 'block' : 'none';\n",
              "    })();\n",
              "  </script>\n",
              "</div>\n",
              "    </div>\n",
              "  </div>\n"
            ]
          },
          "metadata": {},
          "execution_count": 3
        }
      ],
      "source": [
        "data = pd.read_csv('/content/drive/MyDrive/Suicide_Detection.csv')\n",
        "data.head()"
      ]
    },
    {
      "cell_type": "markdown",
      "id": "8c852950",
      "metadata": {
        "papermill": {
          "duration": 0.012026,
          "end_time": "2023-04-25T10:48:29.201679",
          "exception": false,
          "start_time": "2023-04-25T10:48:29.189653",
          "status": "completed"
        },
        "tags": [],
        "id": "8c852950"
      },
      "source": [
        "# Data Preprocessing"
      ]
    },
    {
      "cell_type": "code",
      "execution_count": 4,
      "id": "f5cc7ebc",
      "metadata": {
        "execution": {
          "iopub.execute_input": "2023-04-25T10:48:29.227548Z",
          "iopub.status.busy": "2023-04-25T10:48:29.227205Z",
          "iopub.status.idle": "2023-04-25T10:48:29.233712Z",
          "shell.execute_reply": "2023-04-25T10:48:29.232621Z"
        },
        "papermill": {
          "duration": 0.023651,
          "end_time": "2023-04-25T10:48:29.236821",
          "exception": false,
          "start_time": "2023-04-25T10:48:29.213170",
          "status": "completed"
        },
        "tags": [],
        "colab": {
          "base_uri": "https://localhost:8080/"
        },
        "id": "f5cc7ebc",
        "outputId": "e629b68a-0ff4-4c40-b634-f466beb7b624"
      },
      "outputs": [
        {
          "output_type": "execute_result",
          "data": {
            "text/plain": [
              "(232074, 3)"
            ]
          },
          "metadata": {},
          "execution_count": 4
        }
      ],
      "source": [
        "data.shape"
      ]
    },
    {
      "cell_type": "code",
      "execution_count": 5,
      "id": "c9c3d268",
      "metadata": {
        "execution": {
          "iopub.execute_input": "2023-04-25T10:48:29.284184Z",
          "iopub.status.busy": "2023-04-25T10:48:29.283907Z",
          "iopub.status.idle": "2023-04-25T10:48:29.299753Z",
          "shell.execute_reply": "2023-04-25T10:48:29.298876Z"
        },
        "papermill": {
          "duration": 0.030571,
          "end_time": "2023-04-25T10:48:29.301825",
          "exception": false,
          "start_time": "2023-04-25T10:48:29.271254",
          "status": "completed"
        },
        "tags": [],
        "id": "c9c3d268"
      },
      "outputs": [],
      "source": [
        "df = data.sample(n=10000, random_state=42)"
      ]
    },
    {
      "cell_type": "code",
      "execution_count": 6,
      "id": "0884251c",
      "metadata": {
        "execution": {
          "iopub.execute_input": "2023-04-25T10:48:29.326707Z",
          "iopub.status.busy": "2023-04-25T10:48:29.326142Z",
          "iopub.status.idle": "2023-04-25T10:48:29.350744Z",
          "shell.execute_reply": "2023-04-25T10:48:29.349116Z"
        },
        "papermill": {
          "duration": 0.039404,
          "end_time": "2023-04-25T10:48:29.353166",
          "exception": false,
          "start_time": "2023-04-25T10:48:29.313762",
          "status": "completed"
        },
        "tags": [],
        "colab": {
          "base_uri": "https://localhost:8080/"
        },
        "id": "0884251c",
        "outputId": "1995a2ee-59fb-4699-9440-2dc5d0fc11fc"
      },
      "outputs": [
        {
          "output_type": "stream",
          "name": "stdout",
          "text": [
            "<class 'pandas.core.frame.DataFrame'>\n",
            "Int64Index: 10000 entries, 74414 to 224640\n",
            "Data columns (total 3 columns):\n",
            " #   Column      Non-Null Count  Dtype \n",
            "---  ------      --------------  ----- \n",
            " 0   Unnamed: 0  10000 non-null  int64 \n",
            " 1   text        10000 non-null  object\n",
            " 2   class       10000 non-null  object\n",
            "dtypes: int64(1), object(2)\n",
            "memory usage: 312.5+ KB\n"
          ]
        }
      ],
      "source": [
        "df.info()"
      ]
    },
    {
      "cell_type": "code",
      "execution_count": 7,
      "id": "cef53bca",
      "metadata": {
        "execution": {
          "iopub.execute_input": "2023-04-25T10:48:29.413507Z",
          "iopub.status.busy": "2023-04-25T10:48:29.413217Z",
          "iopub.status.idle": "2023-04-25T10:48:29.418721Z",
          "shell.execute_reply": "2023-04-25T10:48:29.417731Z"
        },
        "papermill": {
          "duration": 0.020306,
          "end_time": "2023-04-25T10:48:29.421030",
          "exception": false,
          "start_time": "2023-04-25T10:48:29.400724",
          "status": "completed"
        },
        "tags": [],
        "id": "cef53bca"
      },
      "outputs": [],
      "source": [
        "df.drop(columns = 'Unnamed: 0',inplace=True)"
      ]
    },
    {
      "cell_type": "code",
      "execution_count": 8,
      "id": "d64474a1",
      "metadata": {
        "execution": {
          "iopub.execute_input": "2023-04-25T10:48:29.445559Z",
          "iopub.status.busy": "2023-04-25T10:48:29.445263Z",
          "iopub.status.idle": "2023-04-25T10:48:29.454453Z",
          "shell.execute_reply": "2023-04-25T10:48:29.453381Z"
        },
        "papermill": {
          "duration": 0.024897,
          "end_time": "2023-04-25T10:48:29.457670",
          "exception": false,
          "start_time": "2023-04-25T10:48:29.432773",
          "status": "completed"
        },
        "tags": [],
        "colab": {
          "base_uri": "https://localhost:8080/",
          "height": 206
        },
        "id": "d64474a1",
        "outputId": "163f67df-e981-468e-9184-69c6a17e24ae"
      },
      "outputs": [
        {
          "output_type": "execute_result",
          "data": {
            "text/plain": [
              "                                                     text        class\n",
              "74414   I Don't know?7? Months self harm free and the ...      suicide\n",
              "149516  I HAVE TO START BECOMING RICH I HAVE TO START ...  non-suicide\n",
              "12484   A poem (haiku) for u/Me-Game-Dev hi, hello hel...  non-suicide\n",
              "14043   I've honestly got no idea what to do anymore.I...      suicide\n",
              "30673   Do you ever just cry? Like you just think abou...  non-suicide"
            ],
            "text/html": [
              "\n",
              "  <div id=\"df-b8fc32f1-5d53-47f6-88b1-638d561d331c\" class=\"colab-df-container\">\n",
              "    <div>\n",
              "<style scoped>\n",
              "    .dataframe tbody tr th:only-of-type {\n",
              "        vertical-align: middle;\n",
              "    }\n",
              "\n",
              "    .dataframe tbody tr th {\n",
              "        vertical-align: top;\n",
              "    }\n",
              "\n",
              "    .dataframe thead th {\n",
              "        text-align: right;\n",
              "    }\n",
              "</style>\n",
              "<table border=\"1\" class=\"dataframe\">\n",
              "  <thead>\n",
              "    <tr style=\"text-align: right;\">\n",
              "      <th></th>\n",
              "      <th>text</th>\n",
              "      <th>class</th>\n",
              "    </tr>\n",
              "  </thead>\n",
              "  <tbody>\n",
              "    <tr>\n",
              "      <th>74414</th>\n",
              "      <td>I Don't know?7? Months self harm free and the ...</td>\n",
              "      <td>suicide</td>\n",
              "    </tr>\n",
              "    <tr>\n",
              "      <th>149516</th>\n",
              "      <td>I HAVE TO START BECOMING RICH I HAVE TO START ...</td>\n",
              "      <td>non-suicide</td>\n",
              "    </tr>\n",
              "    <tr>\n",
              "      <th>12484</th>\n",
              "      <td>A poem (haiku) for u/Me-Game-Dev hi, hello hel...</td>\n",
              "      <td>non-suicide</td>\n",
              "    </tr>\n",
              "    <tr>\n",
              "      <th>14043</th>\n",
              "      <td>I've honestly got no idea what to do anymore.I...</td>\n",
              "      <td>suicide</td>\n",
              "    </tr>\n",
              "    <tr>\n",
              "      <th>30673</th>\n",
              "      <td>Do you ever just cry? Like you just think abou...</td>\n",
              "      <td>non-suicide</td>\n",
              "    </tr>\n",
              "  </tbody>\n",
              "</table>\n",
              "</div>\n",
              "    <div class=\"colab-df-buttons\">\n",
              "\n",
              "  <div class=\"colab-df-container\">\n",
              "    <button class=\"colab-df-convert\" onclick=\"convertToInteractive('df-b8fc32f1-5d53-47f6-88b1-638d561d331c')\"\n",
              "            title=\"Convert this dataframe to an interactive table.\"\n",
              "            style=\"display:none;\">\n",
              "\n",
              "  <svg xmlns=\"http://www.w3.org/2000/svg\" height=\"24px\" viewBox=\"0 -960 960 960\">\n",
              "    <path d=\"M120-120v-720h720v720H120Zm60-500h600v-160H180v160Zm220 220h160v-160H400v160Zm0 220h160v-160H400v160ZM180-400h160v-160H180v160Zm440 0h160v-160H620v160ZM180-180h160v-160H180v160Zm440 0h160v-160H620v160Z\"/>\n",
              "  </svg>\n",
              "    </button>\n",
              "\n",
              "  <style>\n",
              "    .colab-df-container {\n",
              "      display:flex;\n",
              "      gap: 12px;\n",
              "    }\n",
              "\n",
              "    .colab-df-convert {\n",
              "      background-color: #E8F0FE;\n",
              "      border: none;\n",
              "      border-radius: 50%;\n",
              "      cursor: pointer;\n",
              "      display: none;\n",
              "      fill: #1967D2;\n",
              "      height: 32px;\n",
              "      padding: 0 0 0 0;\n",
              "      width: 32px;\n",
              "    }\n",
              "\n",
              "    .colab-df-convert:hover {\n",
              "      background-color: #E2EBFA;\n",
              "      box-shadow: 0px 1px 2px rgba(60, 64, 67, 0.3), 0px 1px 3px 1px rgba(60, 64, 67, 0.15);\n",
              "      fill: #174EA6;\n",
              "    }\n",
              "\n",
              "    .colab-df-buttons div {\n",
              "      margin-bottom: 4px;\n",
              "    }\n",
              "\n",
              "    [theme=dark] .colab-df-convert {\n",
              "      background-color: #3B4455;\n",
              "      fill: #D2E3FC;\n",
              "    }\n",
              "\n",
              "    [theme=dark] .colab-df-convert:hover {\n",
              "      background-color: #434B5C;\n",
              "      box-shadow: 0px 1px 3px 1px rgba(0, 0, 0, 0.15);\n",
              "      filter: drop-shadow(0px 1px 2px rgba(0, 0, 0, 0.3));\n",
              "      fill: #FFFFFF;\n",
              "    }\n",
              "  </style>\n",
              "\n",
              "    <script>\n",
              "      const buttonEl =\n",
              "        document.querySelector('#df-b8fc32f1-5d53-47f6-88b1-638d561d331c button.colab-df-convert');\n",
              "      buttonEl.style.display =\n",
              "        google.colab.kernel.accessAllowed ? 'block' : 'none';\n",
              "\n",
              "      async function convertToInteractive(key) {\n",
              "        const element = document.querySelector('#df-b8fc32f1-5d53-47f6-88b1-638d561d331c');\n",
              "        const dataTable =\n",
              "          await google.colab.kernel.invokeFunction('convertToInteractive',\n",
              "                                                    [key], {});\n",
              "        if (!dataTable) return;\n",
              "\n",
              "        const docLinkHtml = 'Like what you see? Visit the ' +\n",
              "          '<a target=\"_blank\" href=https://colab.research.google.com/notebooks/data_table.ipynb>data table notebook</a>'\n",
              "          + ' to learn more about interactive tables.';\n",
              "        element.innerHTML = '';\n",
              "        dataTable['output_type'] = 'display_data';\n",
              "        await google.colab.output.renderOutput(dataTable, element);\n",
              "        const docLink = document.createElement('div');\n",
              "        docLink.innerHTML = docLinkHtml;\n",
              "        element.appendChild(docLink);\n",
              "      }\n",
              "    </script>\n",
              "  </div>\n",
              "\n",
              "\n",
              "<div id=\"df-018329f0-03f6-48dd-b054-b52f4b1f23ea\">\n",
              "  <button class=\"colab-df-quickchart\" onclick=\"quickchart('df-018329f0-03f6-48dd-b054-b52f4b1f23ea')\"\n",
              "            title=\"Suggest charts\"\n",
              "            style=\"display:none;\">\n",
              "\n",
              "<svg xmlns=\"http://www.w3.org/2000/svg\" height=\"24px\"viewBox=\"0 0 24 24\"\n",
              "     width=\"24px\">\n",
              "    <g>\n",
              "        <path d=\"M19 3H5c-1.1 0-2 .9-2 2v14c0 1.1.9 2 2 2h14c1.1 0 2-.9 2-2V5c0-1.1-.9-2-2-2zM9 17H7v-7h2v7zm4 0h-2V7h2v10zm4 0h-2v-4h2v4z\"/>\n",
              "    </g>\n",
              "</svg>\n",
              "  </button>\n",
              "\n",
              "<style>\n",
              "  .colab-df-quickchart {\n",
              "      --bg-color: #E8F0FE;\n",
              "      --fill-color: #1967D2;\n",
              "      --hover-bg-color: #E2EBFA;\n",
              "      --hover-fill-color: #174EA6;\n",
              "      --disabled-fill-color: #AAA;\n",
              "      --disabled-bg-color: #DDD;\n",
              "  }\n",
              "\n",
              "  [theme=dark] .colab-df-quickchart {\n",
              "      --bg-color: #3B4455;\n",
              "      --fill-color: #D2E3FC;\n",
              "      --hover-bg-color: #434B5C;\n",
              "      --hover-fill-color: #FFFFFF;\n",
              "      --disabled-bg-color: #3B4455;\n",
              "      --disabled-fill-color: #666;\n",
              "  }\n",
              "\n",
              "  .colab-df-quickchart {\n",
              "    background-color: var(--bg-color);\n",
              "    border: none;\n",
              "    border-radius: 50%;\n",
              "    cursor: pointer;\n",
              "    display: none;\n",
              "    fill: var(--fill-color);\n",
              "    height: 32px;\n",
              "    padding: 0;\n",
              "    width: 32px;\n",
              "  }\n",
              "\n",
              "  .colab-df-quickchart:hover {\n",
              "    background-color: var(--hover-bg-color);\n",
              "    box-shadow: 0 1px 2px rgba(60, 64, 67, 0.3), 0 1px 3px 1px rgba(60, 64, 67, 0.15);\n",
              "    fill: var(--button-hover-fill-color);\n",
              "  }\n",
              "\n",
              "  .colab-df-quickchart-complete:disabled,\n",
              "  .colab-df-quickchart-complete:disabled:hover {\n",
              "    background-color: var(--disabled-bg-color);\n",
              "    fill: var(--disabled-fill-color);\n",
              "    box-shadow: none;\n",
              "  }\n",
              "\n",
              "  .colab-df-spinner {\n",
              "    border: 2px solid var(--fill-color);\n",
              "    border-color: transparent;\n",
              "    border-bottom-color: var(--fill-color);\n",
              "    animation:\n",
              "      spin 1s steps(1) infinite;\n",
              "  }\n",
              "\n",
              "  @keyframes spin {\n",
              "    0% {\n",
              "      border-color: transparent;\n",
              "      border-bottom-color: var(--fill-color);\n",
              "      border-left-color: var(--fill-color);\n",
              "    }\n",
              "    20% {\n",
              "      border-color: transparent;\n",
              "      border-left-color: var(--fill-color);\n",
              "      border-top-color: var(--fill-color);\n",
              "    }\n",
              "    30% {\n",
              "      border-color: transparent;\n",
              "      border-left-color: var(--fill-color);\n",
              "      border-top-color: var(--fill-color);\n",
              "      border-right-color: var(--fill-color);\n",
              "    }\n",
              "    40% {\n",
              "      border-color: transparent;\n",
              "      border-right-color: var(--fill-color);\n",
              "      border-top-color: var(--fill-color);\n",
              "    }\n",
              "    60% {\n",
              "      border-color: transparent;\n",
              "      border-right-color: var(--fill-color);\n",
              "    }\n",
              "    80% {\n",
              "      border-color: transparent;\n",
              "      border-right-color: var(--fill-color);\n",
              "      border-bottom-color: var(--fill-color);\n",
              "    }\n",
              "    90% {\n",
              "      border-color: transparent;\n",
              "      border-bottom-color: var(--fill-color);\n",
              "    }\n",
              "  }\n",
              "</style>\n",
              "\n",
              "  <script>\n",
              "    async function quickchart(key) {\n",
              "      const quickchartButtonEl =\n",
              "        document.querySelector('#' + key + ' button');\n",
              "      quickchartButtonEl.disabled = true;  // To prevent multiple clicks.\n",
              "      quickchartButtonEl.classList.add('colab-df-spinner');\n",
              "      try {\n",
              "        const charts = await google.colab.kernel.invokeFunction(\n",
              "            'suggestCharts', [key], {});\n",
              "      } catch (error) {\n",
              "        console.error('Error during call to suggestCharts:', error);\n",
              "      }\n",
              "      quickchartButtonEl.classList.remove('colab-df-spinner');\n",
              "      quickchartButtonEl.classList.add('colab-df-quickchart-complete');\n",
              "    }\n",
              "    (() => {\n",
              "      let quickchartButtonEl =\n",
              "        document.querySelector('#df-018329f0-03f6-48dd-b054-b52f4b1f23ea button');\n",
              "      quickchartButtonEl.style.display =\n",
              "        google.colab.kernel.accessAllowed ? 'block' : 'none';\n",
              "    })();\n",
              "  </script>\n",
              "</div>\n",
              "    </div>\n",
              "  </div>\n"
            ]
          },
          "metadata": {},
          "execution_count": 8
        }
      ],
      "source": [
        "df.head()"
      ]
    },
    {
      "cell_type": "markdown",
      "id": "840d712b",
      "metadata": {
        "papermill": {
          "duration": 0.012509,
          "end_time": "2023-04-25T10:48:29.921958",
          "exception": false,
          "start_time": "2023-04-25T10:48:29.909449",
          "status": "completed"
        },
        "tags": [],
        "id": "840d712b"
      },
      "source": [
        "# Text Preprocessing"
      ]
    },
    {
      "cell_type": "code",
      "execution_count": 9,
      "id": "eec1b50a",
      "metadata": {
        "execution": {
          "iopub.execute_input": "2023-04-25T10:48:29.975199Z",
          "iopub.status.busy": "2023-04-25T10:48:29.974322Z",
          "iopub.status.idle": "2023-04-25T10:48:29.999239Z",
          "shell.execute_reply": "2023-04-25T10:48:29.998202Z"
        },
        "papermill": {
          "duration": 0.041011,
          "end_time": "2023-04-25T10:48:30.001486",
          "exception": false,
          "start_time": "2023-04-25T10:48:29.960475",
          "status": "completed"
        },
        "tags": [],
        "id": "eec1b50a"
      },
      "outputs": [],
      "source": [
        "df['text']= df['text'].str.lower()"
      ]
    },
    {
      "cell_type": "code",
      "execution_count": 10,
      "id": "5d2b6a5b",
      "metadata": {
        "execution": {
          "iopub.execute_input": "2023-04-25T10:48:30.054552Z",
          "iopub.status.busy": "2023-04-25T10:48:30.053504Z",
          "iopub.status.idle": "2023-04-25T10:48:30.269761Z",
          "shell.execute_reply": "2023-04-25T10:48:30.268722Z"
        },
        "papermill": {
          "duration": 0.232556,
          "end_time": "2023-04-25T10:48:30.272373",
          "exception": false,
          "start_time": "2023-04-25T10:48:30.039817",
          "status": "completed"
        },
        "tags": [],
        "id": "5d2b6a5b"
      },
      "outputs": [],
      "source": [
        "df['text'] = df['text'].str.replace(r'[^\\w\\s]+', '',regex = True)"
      ]
    },
    {
      "cell_type": "code",
      "execution_count": 13,
      "id": "39fb7a55",
      "metadata": {
        "execution": {
          "iopub.execute_input": "2023-04-25T10:48:30.325406Z",
          "iopub.status.busy": "2023-04-25T10:48:30.324485Z",
          "iopub.status.idle": "2023-04-25T10:48:32.646899Z",
          "shell.execute_reply": "2023-04-25T10:48:32.645877Z"
        },
        "papermill": {
          "duration": 2.341948,
          "end_time": "2023-04-25T10:48:32.652711",
          "exception": false,
          "start_time": "2023-04-25T10:48:30.310763",
          "status": "completed"
        },
        "tags": [],
        "id": "39fb7a55"
      },
      "outputs": [],
      "source": [
        "from nltk.corpus import stopwords\n",
        "stop_words = stopwords.words('english')\n",
        "df['text'] = df['text'].apply(lambda x: ' '.join([word for word in x.split() if word not in (stop_words)]))"
      ]
    },
    {
      "cell_type": "code",
      "execution_count": 16,
      "id": "24aa1aba",
      "metadata": {
        "execution": {
          "iopub.execute_input": "2023-04-25T10:48:32.708858Z",
          "iopub.status.busy": "2023-04-25T10:48:32.708523Z",
          "iopub.status.idle": "2023-04-25T10:48:47.826925Z",
          "shell.execute_reply": "2023-04-25T10:48:47.825900Z"
        },
        "papermill": {
          "duration": 15.13489,
          "end_time": "2023-04-25T10:48:47.829716",
          "exception": false,
          "start_time": "2023-04-25T10:48:32.694826",
          "status": "completed"
        },
        "tags": [],
        "id": "24aa1aba"
      },
      "outputs": [],
      "source": [
        "df['text'] = df['text'].apply(lambda x:nltk.word_tokenize(x))"
      ]
    },
    {
      "cell_type": "code",
      "execution_count": 17,
      "id": "fba26e79",
      "metadata": {
        "execution": {
          "iopub.execute_input": "2023-04-25T10:48:47.881715Z",
          "iopub.status.busy": "2023-04-25T10:48:47.881396Z",
          "iopub.status.idle": "2023-04-25T10:49:02.867078Z",
          "shell.execute_reply": "2023-04-25T10:49:02.865955Z"
        },
        "papermill": {
          "duration": 15.00184,
          "end_time": "2023-04-25T10:49:02.869753",
          "exception": false,
          "start_time": "2023-04-25T10:48:47.867913",
          "status": "completed"
        },
        "tags": [],
        "id": "fba26e79"
      },
      "outputs": [],
      "source": [
        "ps = PorterStemmer()\n",
        "df['text'] = df['text'].apply(lambda x : [ps.stem(i) for i in x])"
      ]
    },
    {
      "cell_type": "code",
      "execution_count": 18,
      "id": "8320c3b7",
      "metadata": {
        "execution": {
          "iopub.execute_input": "2023-04-25T10:49:02.897451Z",
          "iopub.status.busy": "2023-04-25T10:49:02.897137Z",
          "iopub.status.idle": "2023-04-25T10:49:02.942048Z",
          "shell.execute_reply": "2023-04-25T10:49:02.940915Z"
        },
        "papermill": {
          "duration": 0.060937,
          "end_time": "2023-04-25T10:49:02.944224",
          "exception": false,
          "start_time": "2023-04-25T10:49:02.883287",
          "status": "completed"
        },
        "tags": [],
        "id": "8320c3b7"
      },
      "outputs": [],
      "source": [
        "df['text']=df['text'].apply(lambda x : ' '.join(x))"
      ]
    },
    {
      "cell_type": "code",
      "execution_count": 19,
      "id": "ec763d62",
      "metadata": {
        "execution": {
          "iopub.execute_input": "2023-04-25T10:49:02.972024Z",
          "iopub.status.busy": "2023-04-25T10:49:02.971671Z",
          "iopub.status.idle": "2023-04-25T10:49:02.981364Z",
          "shell.execute_reply": "2023-04-25T10:49:02.980399Z"
        },
        "papermill": {
          "duration": 0.026183,
          "end_time": "2023-04-25T10:49:02.983481",
          "exception": false,
          "start_time": "2023-04-25T10:49:02.957298",
          "status": "completed"
        },
        "tags": [],
        "colab": {
          "base_uri": "https://localhost:8080/",
          "height": 206
        },
        "id": "ec763d62",
        "outputId": "c6da0ea5-c3b1-4bdd-9d1e-1648cd49040c"
      },
      "outputs": [
        {
          "output_type": "execute_result",
          "data": {
            "text/plain": [
              "                                                     text        class\n",
              "74414   dont know7 month self harm free urg get strong...      suicide\n",
              "149516  start becom rich start compani becom 16 afford...  non-suicide\n",
              "12484   poem haiku umegamedev hi hello hello stop fuck...  non-suicide\n",
              "14043   ive honestli got idea anymoreit feel everyon f...      suicide\n",
              "30673   ever cri like think unfair life cri cant cri e...  non-suicide"
            ],
            "text/html": [
              "\n",
              "  <div id=\"df-6fb67ebb-18f8-4b90-b3a1-17b40bc44ce5\" class=\"colab-df-container\">\n",
              "    <div>\n",
              "<style scoped>\n",
              "    .dataframe tbody tr th:only-of-type {\n",
              "        vertical-align: middle;\n",
              "    }\n",
              "\n",
              "    .dataframe tbody tr th {\n",
              "        vertical-align: top;\n",
              "    }\n",
              "\n",
              "    .dataframe thead th {\n",
              "        text-align: right;\n",
              "    }\n",
              "</style>\n",
              "<table border=\"1\" class=\"dataframe\">\n",
              "  <thead>\n",
              "    <tr style=\"text-align: right;\">\n",
              "      <th></th>\n",
              "      <th>text</th>\n",
              "      <th>class</th>\n",
              "    </tr>\n",
              "  </thead>\n",
              "  <tbody>\n",
              "    <tr>\n",
              "      <th>74414</th>\n",
              "      <td>dont know7 month self harm free urg get strong...</td>\n",
              "      <td>suicide</td>\n",
              "    </tr>\n",
              "    <tr>\n",
              "      <th>149516</th>\n",
              "      <td>start becom rich start compani becom 16 afford...</td>\n",
              "      <td>non-suicide</td>\n",
              "    </tr>\n",
              "    <tr>\n",
              "      <th>12484</th>\n",
              "      <td>poem haiku umegamedev hi hello hello stop fuck...</td>\n",
              "      <td>non-suicide</td>\n",
              "    </tr>\n",
              "    <tr>\n",
              "      <th>14043</th>\n",
              "      <td>ive honestli got idea anymoreit feel everyon f...</td>\n",
              "      <td>suicide</td>\n",
              "    </tr>\n",
              "    <tr>\n",
              "      <th>30673</th>\n",
              "      <td>ever cri like think unfair life cri cant cri e...</td>\n",
              "      <td>non-suicide</td>\n",
              "    </tr>\n",
              "  </tbody>\n",
              "</table>\n",
              "</div>\n",
              "    <div class=\"colab-df-buttons\">\n",
              "\n",
              "  <div class=\"colab-df-container\">\n",
              "    <button class=\"colab-df-convert\" onclick=\"convertToInteractive('df-6fb67ebb-18f8-4b90-b3a1-17b40bc44ce5')\"\n",
              "            title=\"Convert this dataframe to an interactive table.\"\n",
              "            style=\"display:none;\">\n",
              "\n",
              "  <svg xmlns=\"http://www.w3.org/2000/svg\" height=\"24px\" viewBox=\"0 -960 960 960\">\n",
              "    <path d=\"M120-120v-720h720v720H120Zm60-500h600v-160H180v160Zm220 220h160v-160H400v160Zm0 220h160v-160H400v160ZM180-400h160v-160H180v160Zm440 0h160v-160H620v160ZM180-180h160v-160H180v160Zm440 0h160v-160H620v160Z\"/>\n",
              "  </svg>\n",
              "    </button>\n",
              "\n",
              "  <style>\n",
              "    .colab-df-container {\n",
              "      display:flex;\n",
              "      gap: 12px;\n",
              "    }\n",
              "\n",
              "    .colab-df-convert {\n",
              "      background-color: #E8F0FE;\n",
              "      border: none;\n",
              "      border-radius: 50%;\n",
              "      cursor: pointer;\n",
              "      display: none;\n",
              "      fill: #1967D2;\n",
              "      height: 32px;\n",
              "      padding: 0 0 0 0;\n",
              "      width: 32px;\n",
              "    }\n",
              "\n",
              "    .colab-df-convert:hover {\n",
              "      background-color: #E2EBFA;\n",
              "      box-shadow: 0px 1px 2px rgba(60, 64, 67, 0.3), 0px 1px 3px 1px rgba(60, 64, 67, 0.15);\n",
              "      fill: #174EA6;\n",
              "    }\n",
              "\n",
              "    .colab-df-buttons div {\n",
              "      margin-bottom: 4px;\n",
              "    }\n",
              "\n",
              "    [theme=dark] .colab-df-convert {\n",
              "      background-color: #3B4455;\n",
              "      fill: #D2E3FC;\n",
              "    }\n",
              "\n",
              "    [theme=dark] .colab-df-convert:hover {\n",
              "      background-color: #434B5C;\n",
              "      box-shadow: 0px 1px 3px 1px rgba(0, 0, 0, 0.15);\n",
              "      filter: drop-shadow(0px 1px 2px rgba(0, 0, 0, 0.3));\n",
              "      fill: #FFFFFF;\n",
              "    }\n",
              "  </style>\n",
              "\n",
              "    <script>\n",
              "      const buttonEl =\n",
              "        document.querySelector('#df-6fb67ebb-18f8-4b90-b3a1-17b40bc44ce5 button.colab-df-convert');\n",
              "      buttonEl.style.display =\n",
              "        google.colab.kernel.accessAllowed ? 'block' : 'none';\n",
              "\n",
              "      async function convertToInteractive(key) {\n",
              "        const element = document.querySelector('#df-6fb67ebb-18f8-4b90-b3a1-17b40bc44ce5');\n",
              "        const dataTable =\n",
              "          await google.colab.kernel.invokeFunction('convertToInteractive',\n",
              "                                                    [key], {});\n",
              "        if (!dataTable) return;\n",
              "\n",
              "        const docLinkHtml = 'Like what you see? Visit the ' +\n",
              "          '<a target=\"_blank\" href=https://colab.research.google.com/notebooks/data_table.ipynb>data table notebook</a>'\n",
              "          + ' to learn more about interactive tables.';\n",
              "        element.innerHTML = '';\n",
              "        dataTable['output_type'] = 'display_data';\n",
              "        await google.colab.output.renderOutput(dataTable, element);\n",
              "        const docLink = document.createElement('div');\n",
              "        docLink.innerHTML = docLinkHtml;\n",
              "        element.appendChild(docLink);\n",
              "      }\n",
              "    </script>\n",
              "  </div>\n",
              "\n",
              "\n",
              "<div id=\"df-d6884cfa-2ce7-46b1-bcfd-d4d40c48d8c1\">\n",
              "  <button class=\"colab-df-quickchart\" onclick=\"quickchart('df-d6884cfa-2ce7-46b1-bcfd-d4d40c48d8c1')\"\n",
              "            title=\"Suggest charts\"\n",
              "            style=\"display:none;\">\n",
              "\n",
              "<svg xmlns=\"http://www.w3.org/2000/svg\" height=\"24px\"viewBox=\"0 0 24 24\"\n",
              "     width=\"24px\">\n",
              "    <g>\n",
              "        <path d=\"M19 3H5c-1.1 0-2 .9-2 2v14c0 1.1.9 2 2 2h14c1.1 0 2-.9 2-2V5c0-1.1-.9-2-2-2zM9 17H7v-7h2v7zm4 0h-2V7h2v10zm4 0h-2v-4h2v4z\"/>\n",
              "    </g>\n",
              "</svg>\n",
              "  </button>\n",
              "\n",
              "<style>\n",
              "  .colab-df-quickchart {\n",
              "      --bg-color: #E8F0FE;\n",
              "      --fill-color: #1967D2;\n",
              "      --hover-bg-color: #E2EBFA;\n",
              "      --hover-fill-color: #174EA6;\n",
              "      --disabled-fill-color: #AAA;\n",
              "      --disabled-bg-color: #DDD;\n",
              "  }\n",
              "\n",
              "  [theme=dark] .colab-df-quickchart {\n",
              "      --bg-color: #3B4455;\n",
              "      --fill-color: #D2E3FC;\n",
              "      --hover-bg-color: #434B5C;\n",
              "      --hover-fill-color: #FFFFFF;\n",
              "      --disabled-bg-color: #3B4455;\n",
              "      --disabled-fill-color: #666;\n",
              "  }\n",
              "\n",
              "  .colab-df-quickchart {\n",
              "    background-color: var(--bg-color);\n",
              "    border: none;\n",
              "    border-radius: 50%;\n",
              "    cursor: pointer;\n",
              "    display: none;\n",
              "    fill: var(--fill-color);\n",
              "    height: 32px;\n",
              "    padding: 0;\n",
              "    width: 32px;\n",
              "  }\n",
              "\n",
              "  .colab-df-quickchart:hover {\n",
              "    background-color: var(--hover-bg-color);\n",
              "    box-shadow: 0 1px 2px rgba(60, 64, 67, 0.3), 0 1px 3px 1px rgba(60, 64, 67, 0.15);\n",
              "    fill: var(--button-hover-fill-color);\n",
              "  }\n",
              "\n",
              "  .colab-df-quickchart-complete:disabled,\n",
              "  .colab-df-quickchart-complete:disabled:hover {\n",
              "    background-color: var(--disabled-bg-color);\n",
              "    fill: var(--disabled-fill-color);\n",
              "    box-shadow: none;\n",
              "  }\n",
              "\n",
              "  .colab-df-spinner {\n",
              "    border: 2px solid var(--fill-color);\n",
              "    border-color: transparent;\n",
              "    border-bottom-color: var(--fill-color);\n",
              "    animation:\n",
              "      spin 1s steps(1) infinite;\n",
              "  }\n",
              "\n",
              "  @keyframes spin {\n",
              "    0% {\n",
              "      border-color: transparent;\n",
              "      border-bottom-color: var(--fill-color);\n",
              "      border-left-color: var(--fill-color);\n",
              "    }\n",
              "    20% {\n",
              "      border-color: transparent;\n",
              "      border-left-color: var(--fill-color);\n",
              "      border-top-color: var(--fill-color);\n",
              "    }\n",
              "    30% {\n",
              "      border-color: transparent;\n",
              "      border-left-color: var(--fill-color);\n",
              "      border-top-color: var(--fill-color);\n",
              "      border-right-color: var(--fill-color);\n",
              "    }\n",
              "    40% {\n",
              "      border-color: transparent;\n",
              "      border-right-color: var(--fill-color);\n",
              "      border-top-color: var(--fill-color);\n",
              "    }\n",
              "    60% {\n",
              "      border-color: transparent;\n",
              "      border-right-color: var(--fill-color);\n",
              "    }\n",
              "    80% {\n",
              "      border-color: transparent;\n",
              "      border-right-color: var(--fill-color);\n",
              "      border-bottom-color: var(--fill-color);\n",
              "    }\n",
              "    90% {\n",
              "      border-color: transparent;\n",
              "      border-bottom-color: var(--fill-color);\n",
              "    }\n",
              "  }\n",
              "</style>\n",
              "\n",
              "  <script>\n",
              "    async function quickchart(key) {\n",
              "      const quickchartButtonEl =\n",
              "        document.querySelector('#' + key + ' button');\n",
              "      quickchartButtonEl.disabled = true;  // To prevent multiple clicks.\n",
              "      quickchartButtonEl.classList.add('colab-df-spinner');\n",
              "      try {\n",
              "        const charts = await google.colab.kernel.invokeFunction(\n",
              "            'suggestCharts', [key], {});\n",
              "      } catch (error) {\n",
              "        console.error('Error during call to suggestCharts:', error);\n",
              "      }\n",
              "      quickchartButtonEl.classList.remove('colab-df-spinner');\n",
              "      quickchartButtonEl.classList.add('colab-df-quickchart-complete');\n",
              "    }\n",
              "    (() => {\n",
              "      let quickchartButtonEl =\n",
              "        document.querySelector('#df-d6884cfa-2ce7-46b1-bcfd-d4d40c48d8c1 button');\n",
              "      quickchartButtonEl.style.display =\n",
              "        google.colab.kernel.accessAllowed ? 'block' : 'none';\n",
              "    })();\n",
              "  </script>\n",
              "</div>\n",
              "    </div>\n",
              "  </div>\n"
            ]
          },
          "metadata": {},
          "execution_count": 19
        }
      ],
      "source": [
        "df.head()"
      ]
    },
    {
      "cell_type": "code",
      "execution_count": 20,
      "id": "ff5b1d25",
      "metadata": {
        "execution": {
          "iopub.execute_input": "2023-04-25T10:49:03.010706Z",
          "iopub.status.busy": "2023-04-25T10:49:03.009818Z",
          "iopub.status.idle": "2023-04-25T10:49:03.076337Z",
          "shell.execute_reply": "2023-04-25T10:49:03.075471Z"
        },
        "papermill": {
          "duration": 0.082291,
          "end_time": "2023-04-25T10:49:03.078533",
          "exception": false,
          "start_time": "2023-04-25T10:49:02.996242",
          "status": "completed"
        },
        "tags": [],
        "id": "ff5b1d25"
      },
      "outputs": [],
      "source": [
        "# Saved the cleaned dataset.\n",
        "df.to_csv('file1.csv')"
      ]
    },
    {
      "cell_type": "code",
      "execution_count": 21,
      "id": "57944f1d",
      "metadata": {
        "execution": {
          "iopub.execute_input": "2023-04-25T10:49:03.105342Z",
          "iopub.status.busy": "2023-04-25T10:49:03.105072Z",
          "iopub.status.idle": "2023-04-25T10:49:03.160984Z",
          "shell.execute_reply": "2023-04-25T10:49:03.159849Z"
        },
        "papermill": {
          "duration": 0.072423,
          "end_time": "2023-04-25T10:49:03.163795",
          "exception": false,
          "start_time": "2023-04-25T10:49:03.091372",
          "status": "completed"
        },
        "tags": [],
        "colab": {
          "base_uri": "https://localhost:8080/",
          "height": 206
        },
        "id": "57944f1d",
        "outputId": "bc872ac7-a332-4626-ca8a-ba6ec52f94b6"
      },
      "outputs": [
        {
          "output_type": "execute_result",
          "data": {
            "text/plain": [
              "   Unnamed: 0                                               text        class\n",
              "0       74414  dont know7 month self harm free urg get strong...      suicide\n",
              "1      149516  start becom rich start compani becom 16 afford...  non-suicide\n",
              "2       12484  poem haiku umegamedev hi hello hello stop fuck...  non-suicide\n",
              "3       14043  ive honestli got idea anymoreit feel everyon f...      suicide\n",
              "4       30673  ever cri like think unfair life cri cant cri e...  non-suicide"
            ],
            "text/html": [
              "\n",
              "  <div id=\"df-5e0c7935-ac93-4bb2-97ed-552c4b20a07b\" class=\"colab-df-container\">\n",
              "    <div>\n",
              "<style scoped>\n",
              "    .dataframe tbody tr th:only-of-type {\n",
              "        vertical-align: middle;\n",
              "    }\n",
              "\n",
              "    .dataframe tbody tr th {\n",
              "        vertical-align: top;\n",
              "    }\n",
              "\n",
              "    .dataframe thead th {\n",
              "        text-align: right;\n",
              "    }\n",
              "</style>\n",
              "<table border=\"1\" class=\"dataframe\">\n",
              "  <thead>\n",
              "    <tr style=\"text-align: right;\">\n",
              "      <th></th>\n",
              "      <th>Unnamed: 0</th>\n",
              "      <th>text</th>\n",
              "      <th>class</th>\n",
              "    </tr>\n",
              "  </thead>\n",
              "  <tbody>\n",
              "    <tr>\n",
              "      <th>0</th>\n",
              "      <td>74414</td>\n",
              "      <td>dont know7 month self harm free urg get strong...</td>\n",
              "      <td>suicide</td>\n",
              "    </tr>\n",
              "    <tr>\n",
              "      <th>1</th>\n",
              "      <td>149516</td>\n",
              "      <td>start becom rich start compani becom 16 afford...</td>\n",
              "      <td>non-suicide</td>\n",
              "    </tr>\n",
              "    <tr>\n",
              "      <th>2</th>\n",
              "      <td>12484</td>\n",
              "      <td>poem haiku umegamedev hi hello hello stop fuck...</td>\n",
              "      <td>non-suicide</td>\n",
              "    </tr>\n",
              "    <tr>\n",
              "      <th>3</th>\n",
              "      <td>14043</td>\n",
              "      <td>ive honestli got idea anymoreit feel everyon f...</td>\n",
              "      <td>suicide</td>\n",
              "    </tr>\n",
              "    <tr>\n",
              "      <th>4</th>\n",
              "      <td>30673</td>\n",
              "      <td>ever cri like think unfair life cri cant cri e...</td>\n",
              "      <td>non-suicide</td>\n",
              "    </tr>\n",
              "  </tbody>\n",
              "</table>\n",
              "</div>\n",
              "    <div class=\"colab-df-buttons\">\n",
              "\n",
              "  <div class=\"colab-df-container\">\n",
              "    <button class=\"colab-df-convert\" onclick=\"convertToInteractive('df-5e0c7935-ac93-4bb2-97ed-552c4b20a07b')\"\n",
              "            title=\"Convert this dataframe to an interactive table.\"\n",
              "            style=\"display:none;\">\n",
              "\n",
              "  <svg xmlns=\"http://www.w3.org/2000/svg\" height=\"24px\" viewBox=\"0 -960 960 960\">\n",
              "    <path d=\"M120-120v-720h720v720H120Zm60-500h600v-160H180v160Zm220 220h160v-160H400v160Zm0 220h160v-160H400v160ZM180-400h160v-160H180v160Zm440 0h160v-160H620v160ZM180-180h160v-160H180v160Zm440 0h160v-160H620v160Z\"/>\n",
              "  </svg>\n",
              "    </button>\n",
              "\n",
              "  <style>\n",
              "    .colab-df-container {\n",
              "      display:flex;\n",
              "      gap: 12px;\n",
              "    }\n",
              "\n",
              "    .colab-df-convert {\n",
              "      background-color: #E8F0FE;\n",
              "      border: none;\n",
              "      border-radius: 50%;\n",
              "      cursor: pointer;\n",
              "      display: none;\n",
              "      fill: #1967D2;\n",
              "      height: 32px;\n",
              "      padding: 0 0 0 0;\n",
              "      width: 32px;\n",
              "    }\n",
              "\n",
              "    .colab-df-convert:hover {\n",
              "      background-color: #E2EBFA;\n",
              "      box-shadow: 0px 1px 2px rgba(60, 64, 67, 0.3), 0px 1px 3px 1px rgba(60, 64, 67, 0.15);\n",
              "      fill: #174EA6;\n",
              "    }\n",
              "\n",
              "    .colab-df-buttons div {\n",
              "      margin-bottom: 4px;\n",
              "    }\n",
              "\n",
              "    [theme=dark] .colab-df-convert {\n",
              "      background-color: #3B4455;\n",
              "      fill: #D2E3FC;\n",
              "    }\n",
              "\n",
              "    [theme=dark] .colab-df-convert:hover {\n",
              "      background-color: #434B5C;\n",
              "      box-shadow: 0px 1px 3px 1px rgba(0, 0, 0, 0.15);\n",
              "      filter: drop-shadow(0px 1px 2px rgba(0, 0, 0, 0.3));\n",
              "      fill: #FFFFFF;\n",
              "    }\n",
              "  </style>\n",
              "\n",
              "    <script>\n",
              "      const buttonEl =\n",
              "        document.querySelector('#df-5e0c7935-ac93-4bb2-97ed-552c4b20a07b button.colab-df-convert');\n",
              "      buttonEl.style.display =\n",
              "        google.colab.kernel.accessAllowed ? 'block' : 'none';\n",
              "\n",
              "      async function convertToInteractive(key) {\n",
              "        const element = document.querySelector('#df-5e0c7935-ac93-4bb2-97ed-552c4b20a07b');\n",
              "        const dataTable =\n",
              "          await google.colab.kernel.invokeFunction('convertToInteractive',\n",
              "                                                    [key], {});\n",
              "        if (!dataTable) return;\n",
              "\n",
              "        const docLinkHtml = 'Like what you see? Visit the ' +\n",
              "          '<a target=\"_blank\" href=https://colab.research.google.com/notebooks/data_table.ipynb>data table notebook</a>'\n",
              "          + ' to learn more about interactive tables.';\n",
              "        element.innerHTML = '';\n",
              "        dataTable['output_type'] = 'display_data';\n",
              "        await google.colab.output.renderOutput(dataTable, element);\n",
              "        const docLink = document.createElement('div');\n",
              "        docLink.innerHTML = docLinkHtml;\n",
              "        element.appendChild(docLink);\n",
              "      }\n",
              "    </script>\n",
              "  </div>\n",
              "\n",
              "\n",
              "<div id=\"df-73dcdc56-8af3-4332-b3c6-c3a26c24216f\">\n",
              "  <button class=\"colab-df-quickchart\" onclick=\"quickchart('df-73dcdc56-8af3-4332-b3c6-c3a26c24216f')\"\n",
              "            title=\"Suggest charts\"\n",
              "            style=\"display:none;\">\n",
              "\n",
              "<svg xmlns=\"http://www.w3.org/2000/svg\" height=\"24px\"viewBox=\"0 0 24 24\"\n",
              "     width=\"24px\">\n",
              "    <g>\n",
              "        <path d=\"M19 3H5c-1.1 0-2 .9-2 2v14c0 1.1.9 2 2 2h14c1.1 0 2-.9 2-2V5c0-1.1-.9-2-2-2zM9 17H7v-7h2v7zm4 0h-2V7h2v10zm4 0h-2v-4h2v4z\"/>\n",
              "    </g>\n",
              "</svg>\n",
              "  </button>\n",
              "\n",
              "<style>\n",
              "  .colab-df-quickchart {\n",
              "      --bg-color: #E8F0FE;\n",
              "      --fill-color: #1967D2;\n",
              "      --hover-bg-color: #E2EBFA;\n",
              "      --hover-fill-color: #174EA6;\n",
              "      --disabled-fill-color: #AAA;\n",
              "      --disabled-bg-color: #DDD;\n",
              "  }\n",
              "\n",
              "  [theme=dark] .colab-df-quickchart {\n",
              "      --bg-color: #3B4455;\n",
              "      --fill-color: #D2E3FC;\n",
              "      --hover-bg-color: #434B5C;\n",
              "      --hover-fill-color: #FFFFFF;\n",
              "      --disabled-bg-color: #3B4455;\n",
              "      --disabled-fill-color: #666;\n",
              "  }\n",
              "\n",
              "  .colab-df-quickchart {\n",
              "    background-color: var(--bg-color);\n",
              "    border: none;\n",
              "    border-radius: 50%;\n",
              "    cursor: pointer;\n",
              "    display: none;\n",
              "    fill: var(--fill-color);\n",
              "    height: 32px;\n",
              "    padding: 0;\n",
              "    width: 32px;\n",
              "  }\n",
              "\n",
              "  .colab-df-quickchart:hover {\n",
              "    background-color: var(--hover-bg-color);\n",
              "    box-shadow: 0 1px 2px rgba(60, 64, 67, 0.3), 0 1px 3px 1px rgba(60, 64, 67, 0.15);\n",
              "    fill: var(--button-hover-fill-color);\n",
              "  }\n",
              "\n",
              "  .colab-df-quickchart-complete:disabled,\n",
              "  .colab-df-quickchart-complete:disabled:hover {\n",
              "    background-color: var(--disabled-bg-color);\n",
              "    fill: var(--disabled-fill-color);\n",
              "    box-shadow: none;\n",
              "  }\n",
              "\n",
              "  .colab-df-spinner {\n",
              "    border: 2px solid var(--fill-color);\n",
              "    border-color: transparent;\n",
              "    border-bottom-color: var(--fill-color);\n",
              "    animation:\n",
              "      spin 1s steps(1) infinite;\n",
              "  }\n",
              "\n",
              "  @keyframes spin {\n",
              "    0% {\n",
              "      border-color: transparent;\n",
              "      border-bottom-color: var(--fill-color);\n",
              "      border-left-color: var(--fill-color);\n",
              "    }\n",
              "    20% {\n",
              "      border-color: transparent;\n",
              "      border-left-color: var(--fill-color);\n",
              "      border-top-color: var(--fill-color);\n",
              "    }\n",
              "    30% {\n",
              "      border-color: transparent;\n",
              "      border-left-color: var(--fill-color);\n",
              "      border-top-color: var(--fill-color);\n",
              "      border-right-color: var(--fill-color);\n",
              "    }\n",
              "    40% {\n",
              "      border-color: transparent;\n",
              "      border-right-color: var(--fill-color);\n",
              "      border-top-color: var(--fill-color);\n",
              "    }\n",
              "    60% {\n",
              "      border-color: transparent;\n",
              "      border-right-color: var(--fill-color);\n",
              "    }\n",
              "    80% {\n",
              "      border-color: transparent;\n",
              "      border-right-color: var(--fill-color);\n",
              "      border-bottom-color: var(--fill-color);\n",
              "    }\n",
              "    90% {\n",
              "      border-color: transparent;\n",
              "      border-bottom-color: var(--fill-color);\n",
              "    }\n",
              "  }\n",
              "</style>\n",
              "\n",
              "  <script>\n",
              "    async function quickchart(key) {\n",
              "      const quickchartButtonEl =\n",
              "        document.querySelector('#' + key + ' button');\n",
              "      quickchartButtonEl.disabled = true;  // To prevent multiple clicks.\n",
              "      quickchartButtonEl.classList.add('colab-df-spinner');\n",
              "      try {\n",
              "        const charts = await google.colab.kernel.invokeFunction(\n",
              "            'suggestCharts', [key], {});\n",
              "      } catch (error) {\n",
              "        console.error('Error during call to suggestCharts:', error);\n",
              "      }\n",
              "      quickchartButtonEl.classList.remove('colab-df-spinner');\n",
              "      quickchartButtonEl.classList.add('colab-df-quickchart-complete');\n",
              "    }\n",
              "    (() => {\n",
              "      let quickchartButtonEl =\n",
              "        document.querySelector('#df-73dcdc56-8af3-4332-b3c6-c3a26c24216f button');\n",
              "      quickchartButtonEl.style.display =\n",
              "        google.colab.kernel.accessAllowed ? 'block' : 'none';\n",
              "    })();\n",
              "  </script>\n",
              "</div>\n",
              "    </div>\n",
              "  </div>\n"
            ]
          },
          "metadata": {},
          "execution_count": 21
        }
      ],
      "source": [
        "dfnew = pd.read_csv('file1.csv')\n",
        "dfnew.head()"
      ]
    },
    {
      "cell_type": "code",
      "execution_count": 22,
      "id": "74d7f8f7",
      "metadata": {
        "execution": {
          "iopub.execute_input": "2023-04-25T10:49:03.232852Z",
          "iopub.status.busy": "2023-04-25T10:49:03.232261Z",
          "iopub.status.idle": "2023-04-25T10:49:03.238319Z",
          "shell.execute_reply": "2023-04-25T10:49:03.237418Z"
        },
        "papermill": {
          "duration": 0.021873,
          "end_time": "2023-04-25T10:49:03.240401",
          "exception": false,
          "start_time": "2023-04-25T10:49:03.218528",
          "status": "completed"
        },
        "tags": [],
        "id": "74d7f8f7"
      },
      "outputs": [],
      "source": [
        "ind = dfnew[dfnew['text'].isnull()].index"
      ]
    },
    {
      "cell_type": "code",
      "execution_count": 23,
      "id": "598b7f5e",
      "metadata": {
        "execution": {
          "iopub.execute_input": "2023-04-25T10:49:03.267553Z",
          "iopub.status.busy": "2023-04-25T10:49:03.266832Z",
          "iopub.status.idle": "2023-04-25T10:49:03.275827Z",
          "shell.execute_reply": "2023-04-25T10:49:03.274785Z"
        },
        "papermill": {
          "duration": 0.025185,
          "end_time": "2023-04-25T10:49:03.278297",
          "exception": false,
          "start_time": "2023-04-25T10:49:03.253112",
          "status": "completed"
        },
        "tags": [],
        "colab": {
          "base_uri": "https://localhost:8080/",
          "height": 81
        },
        "id": "598b7f5e",
        "outputId": "a92e1f9c-6731-4001-f23a-bab0428d76a3"
      },
      "outputs": [
        {
          "output_type": "execute_result",
          "data": {
            "text/plain": [
              "       text    class\n",
              "102482       suicide"
            ],
            "text/html": [
              "\n",
              "  <div id=\"df-399c3963-98f0-466f-bb1b-b22e6a5fb504\" class=\"colab-df-container\">\n",
              "    <div>\n",
              "<style scoped>\n",
              "    .dataframe tbody tr th:only-of-type {\n",
              "        vertical-align: middle;\n",
              "    }\n",
              "\n",
              "    .dataframe tbody tr th {\n",
              "        vertical-align: top;\n",
              "    }\n",
              "\n",
              "    .dataframe thead th {\n",
              "        text-align: right;\n",
              "    }\n",
              "</style>\n",
              "<table border=\"1\" class=\"dataframe\">\n",
              "  <thead>\n",
              "    <tr style=\"text-align: right;\">\n",
              "      <th></th>\n",
              "      <th>text</th>\n",
              "      <th>class</th>\n",
              "    </tr>\n",
              "  </thead>\n",
              "  <tbody>\n",
              "    <tr>\n",
              "      <th>102482</th>\n",
              "      <td></td>\n",
              "      <td>suicide</td>\n",
              "    </tr>\n",
              "  </tbody>\n",
              "</table>\n",
              "</div>\n",
              "    <div class=\"colab-df-buttons\">\n",
              "\n",
              "  <div class=\"colab-df-container\">\n",
              "    <button class=\"colab-df-convert\" onclick=\"convertToInteractive('df-399c3963-98f0-466f-bb1b-b22e6a5fb504')\"\n",
              "            title=\"Convert this dataframe to an interactive table.\"\n",
              "            style=\"display:none;\">\n",
              "\n",
              "  <svg xmlns=\"http://www.w3.org/2000/svg\" height=\"24px\" viewBox=\"0 -960 960 960\">\n",
              "    <path d=\"M120-120v-720h720v720H120Zm60-500h600v-160H180v160Zm220 220h160v-160H400v160Zm0 220h160v-160H400v160ZM180-400h160v-160H180v160Zm440 0h160v-160H620v160ZM180-180h160v-160H180v160Zm440 0h160v-160H620v160Z\"/>\n",
              "  </svg>\n",
              "    </button>\n",
              "\n",
              "  <style>\n",
              "    .colab-df-container {\n",
              "      display:flex;\n",
              "      gap: 12px;\n",
              "    }\n",
              "\n",
              "    .colab-df-convert {\n",
              "      background-color: #E8F0FE;\n",
              "      border: none;\n",
              "      border-radius: 50%;\n",
              "      cursor: pointer;\n",
              "      display: none;\n",
              "      fill: #1967D2;\n",
              "      height: 32px;\n",
              "      padding: 0 0 0 0;\n",
              "      width: 32px;\n",
              "    }\n",
              "\n",
              "    .colab-df-convert:hover {\n",
              "      background-color: #E2EBFA;\n",
              "      box-shadow: 0px 1px 2px rgba(60, 64, 67, 0.3), 0px 1px 3px 1px rgba(60, 64, 67, 0.15);\n",
              "      fill: #174EA6;\n",
              "    }\n",
              "\n",
              "    .colab-df-buttons div {\n",
              "      margin-bottom: 4px;\n",
              "    }\n",
              "\n",
              "    [theme=dark] .colab-df-convert {\n",
              "      background-color: #3B4455;\n",
              "      fill: #D2E3FC;\n",
              "    }\n",
              "\n",
              "    [theme=dark] .colab-df-convert:hover {\n",
              "      background-color: #434B5C;\n",
              "      box-shadow: 0px 1px 3px 1px rgba(0, 0, 0, 0.15);\n",
              "      filter: drop-shadow(0px 1px 2px rgba(0, 0, 0, 0.3));\n",
              "      fill: #FFFFFF;\n",
              "    }\n",
              "  </style>\n",
              "\n",
              "    <script>\n",
              "      const buttonEl =\n",
              "        document.querySelector('#df-399c3963-98f0-466f-bb1b-b22e6a5fb504 button.colab-df-convert');\n",
              "      buttonEl.style.display =\n",
              "        google.colab.kernel.accessAllowed ? 'block' : 'none';\n",
              "\n",
              "      async function convertToInteractive(key) {\n",
              "        const element = document.querySelector('#df-399c3963-98f0-466f-bb1b-b22e6a5fb504');\n",
              "        const dataTable =\n",
              "          await google.colab.kernel.invokeFunction('convertToInteractive',\n",
              "                                                    [key], {});\n",
              "        if (!dataTable) return;\n",
              "\n",
              "        const docLinkHtml = 'Like what you see? Visit the ' +\n",
              "          '<a target=\"_blank\" href=https://colab.research.google.com/notebooks/data_table.ipynb>data table notebook</a>'\n",
              "          + ' to learn more about interactive tables.';\n",
              "        element.innerHTML = '';\n",
              "        dataTable['output_type'] = 'display_data';\n",
              "        await google.colab.output.renderOutput(dataTable, element);\n",
              "        const docLink = document.createElement('div');\n",
              "        docLink.innerHTML = docLinkHtml;\n",
              "        element.appendChild(docLink);\n",
              "      }\n",
              "    </script>\n",
              "  </div>\n",
              "\n",
              "    </div>\n",
              "  </div>\n"
            ]
          },
          "metadata": {},
          "execution_count": 23
        }
      ],
      "source": [
        "df.iloc[ind]"
      ]
    },
    {
      "cell_type": "code",
      "execution_count": 24,
      "id": "1b904b1d",
      "metadata": {
        "execution": {
          "iopub.execute_input": "2023-04-25T10:49:03.331213Z",
          "iopub.status.busy": "2023-04-25T10:49:03.330940Z",
          "iopub.status.idle": "2023-04-25T10:49:03.338805Z",
          "shell.execute_reply": "2023-04-25T10:49:03.337869Z"
        },
        "papermill": {
          "duration": 0.02385,
          "end_time": "2023-04-25T10:49:03.340991",
          "exception": false,
          "start_time": "2023-04-25T10:49:03.317141",
          "status": "completed"
        },
        "tags": [],
        "id": "1b904b1d"
      },
      "outputs": [],
      "source": [
        "dfnew.dropna(inplace=True)"
      ]
    },
    {
      "cell_type": "markdown",
      "id": "39c3366a",
      "metadata": {
        "papermill": {
          "duration": 0.012888,
          "end_time": "2023-04-25T10:49:03.367175",
          "exception": false,
          "start_time": "2023-04-25T10:49:03.354287",
          "status": "completed"
        },
        "tags": [],
        "id": "39c3366a"
      },
      "source": [
        "# Machine Learning - Model Selection"
      ]
    },
    {
      "cell_type": "code",
      "execution_count": 25,
      "id": "7bdcb7b1",
      "metadata": {
        "execution": {
          "iopub.execute_input": "2023-04-25T10:49:03.394898Z",
          "iopub.status.busy": "2023-04-25T10:49:03.394047Z",
          "iopub.status.idle": "2023-04-25T10:49:03.399234Z",
          "shell.execute_reply": "2023-04-25T10:49:03.398313Z"
        },
        "papermill": {
          "duration": 0.021096,
          "end_time": "2023-04-25T10:49:03.401334",
          "exception": false,
          "start_time": "2023-04-25T10:49:03.380238",
          "status": "completed"
        },
        "tags": [],
        "id": "7bdcb7b1"
      },
      "outputs": [],
      "source": [
        "x,y = dfnew['text'],dfnew['class']"
      ]
    },
    {
      "cell_type": "markdown",
      "id": "09948539",
      "metadata": {
        "papermill": {
          "duration": 0.012913,
          "end_time": "2023-04-25T10:49:03.427313",
          "exception": false,
          "start_time": "2023-04-25T10:49:03.414400",
          "status": "completed"
        },
        "tags": [],
        "id": "09948539"
      },
      "source": [
        "## TF-IDF Vectorizer"
      ]
    },
    {
      "cell_type": "code",
      "execution_count": 26,
      "id": "d8fcdcdb",
      "metadata": {
        "execution": {
          "iopub.execute_input": "2023-04-25T10:49:03.454906Z",
          "iopub.status.busy": "2023-04-25T10:49:03.454097Z",
          "iopub.status.idle": "2023-04-25T10:49:04.056064Z",
          "shell.execute_reply": "2023-04-25T10:49:04.055067Z"
        },
        "papermill": {
          "duration": 0.618453,
          "end_time": "2023-04-25T10:49:04.058684",
          "exception": false,
          "start_time": "2023-04-25T10:49:03.440231",
          "status": "completed"
        },
        "tags": [],
        "id": "d8fcdcdb"
      },
      "outputs": [],
      "source": [
        "vectorizer = TfidfVectorizer(min_df=50,max_features=5000)\n",
        "x =  vectorizer.fit_transform(x).toarray()"
      ]
    },
    {
      "cell_type": "code",
      "execution_count": 27,
      "id": "6df9ce50",
      "metadata": {
        "execution": {
          "iopub.execute_input": "2023-04-25T10:49:04.087370Z",
          "iopub.status.busy": "2023-04-25T10:49:04.086787Z",
          "iopub.status.idle": "2023-04-25T10:49:04.100869Z",
          "shell.execute_reply": "2023-04-25T10:49:04.100128Z"
        },
        "papermill": {
          "duration": 0.030551,
          "end_time": "2023-04-25T10:49:04.102832",
          "exception": false,
          "start_time": "2023-04-25T10:49:04.072281",
          "status": "completed"
        },
        "tags": [],
        "id": "6df9ce50"
      },
      "outputs": [],
      "source": [
        "# Save the model\n",
        "with open('tfidf.pkl', 'wb') as f:\n",
        "    pickle.dump(vectorizer, f)"
      ]
    },
    {
      "cell_type": "code",
      "execution_count": 28,
      "id": "202af890",
      "metadata": {
        "execution": {
          "iopub.execute_input": "2023-04-25T10:49:04.130866Z",
          "iopub.status.busy": "2023-04-25T10:49:04.130569Z",
          "iopub.status.idle": "2023-04-25T10:49:04.172779Z",
          "shell.execute_reply": "2023-04-25T10:49:04.171765Z"
        },
        "papermill": {
          "duration": 0.059343,
          "end_time": "2023-04-25T10:49:04.175461",
          "exception": false,
          "start_time": "2023-04-25T10:49:04.116118",
          "status": "completed"
        },
        "tags": [],
        "id": "202af890"
      },
      "outputs": [],
      "source": [
        "X_train,X_test,y_train,y_test = train_test_split(x,y,test_size=0.30,random_state=5)"
      ]
    },
    {
      "cell_type": "code",
      "execution_count": 29,
      "id": "c2fcf86e",
      "metadata": {
        "execution": {
          "iopub.execute_input": "2023-04-25T10:49:04.203905Z",
          "iopub.status.busy": "2023-04-25T10:49:04.203058Z",
          "iopub.status.idle": "2023-04-25T10:49:04.209881Z",
          "shell.execute_reply": "2023-04-25T10:49:04.208836Z"
        },
        "papermill": {
          "duration": 0.02299,
          "end_time": "2023-04-25T10:49:04.211981",
          "exception": false,
          "start_time": "2023-04-25T10:49:04.188991",
          "status": "completed"
        },
        "tags": [],
        "colab": {
          "base_uri": "https://localhost:8080/"
        },
        "id": "c2fcf86e",
        "outputId": "ca73d859-dacf-4f01-c2e3-3490a1d1118e"
      },
      "outputs": [
        {
          "output_type": "execute_result",
          "data": {
            "text/plain": [
              "((6999, 1320), (3000, 1320))"
            ]
          },
          "metadata": {},
          "execution_count": 29
        }
      ],
      "source": [
        "X_train.shape,X_test.shape"
      ]
    },
    {
      "cell_type": "markdown",
      "id": "3e09bc43",
      "metadata": {
        "papermill": {
          "duration": 0.012927,
          "end_time": "2023-04-25T10:49:04.238168",
          "exception": false,
          "start_time": "2023-04-25T10:49:04.225241",
          "status": "completed"
        },
        "tags": [],
        "id": "3e09bc43"
      },
      "source": [
        "## Naive Bayes (Voting Classifier)"
      ]
    },
    {
      "cell_type": "code",
      "execution_count": 30,
      "id": "efc158f4",
      "metadata": {
        "execution": {
          "iopub.execute_input": "2023-04-25T10:49:04.266053Z",
          "iopub.status.busy": "2023-04-25T10:49:04.265221Z",
          "iopub.status.idle": "2023-04-25T10:49:05.007439Z",
          "shell.execute_reply": "2023-04-25T10:49:05.005792Z"
        },
        "papermill": {
          "duration": 0.759202,
          "end_time": "2023-04-25T10:49:05.010382",
          "exception": false,
          "start_time": "2023-04-25T10:49:04.251180",
          "status": "completed"
        },
        "tags": [],
        "colab": {
          "base_uri": "https://localhost:8080/"
        },
        "id": "efc158f4",
        "outputId": "5b0563c5-dad3-4b32-cea4-2ed5a4d6d626"
      },
      "outputs": [
        {
          "output_type": "stream",
          "name": "stdout",
          "text": [
            "Training score: 0.899271324474925\n",
            "Testing score: 0.8753333333333333\n"
          ]
        }
      ],
      "source": [
        "nb = GaussianNB()\n",
        "nb2 = BernoulliNB()\n",
        "nb3 = MultinomialNB()\n",
        "VotingClassifiers = VotingClassifier(estimators=[('GaussianNB', nb),('BernoulliNB',nb2), ('MultinomialNB', nb3)], voting = 'soft')\n",
        "VotingClassifiers.fit(X_train, y_train)\n",
        "print('Training score:',VotingClassifiers.score(X_train, y_train))\n",
        "print('Testing score:',VotingClassifiers.score(X_test,y_test))"
      ]
    },
    {
      "cell_type": "code",
      "execution_count": 31,
      "id": "1650796f",
      "metadata": {
        "execution": {
          "iopub.execute_input": "2023-04-25T10:49:05.082942Z",
          "iopub.status.busy": "2023-04-25T10:49:05.082361Z",
          "iopub.status.idle": "2023-04-25T10:49:05.573414Z",
          "shell.execute_reply": "2023-04-25T10:49:05.572369Z"
        },
        "papermill": {
          "duration": 0.529698,
          "end_time": "2023-04-25T10:49:05.575542",
          "exception": false,
          "start_time": "2023-04-25T10:49:05.045844",
          "status": "completed"
        },
        "tags": [],
        "colab": {
          "base_uri": "https://localhost:8080/"
        },
        "id": "1650796f",
        "outputId": "93b120d6-ca8e-458b-a5e5-a848c5133229"
      },
      "outputs": [
        {
          "output_type": "stream",
          "name": "stdout",
          "text": [
            "              precision    recall  f1-score   support\n",
            "\n",
            " non-suicide       0.88      0.88      0.88      1542\n",
            "     suicide       0.87      0.87      0.87      1458\n",
            "\n",
            "    accuracy                           0.88      3000\n",
            "   macro avg       0.88      0.88      0.88      3000\n",
            "weighted avg       0.88      0.88      0.88      3000\n",
            "\n"
          ]
        }
      ],
      "source": [
        "y_act=y_test\n",
        "y_pred=VotingClassifiers.predict(X_test)\n",
        "print(classification_report(y_act,y_pred))"
      ]
    },
    {
      "cell_type": "markdown",
      "id": "de05ec96",
      "metadata": {
        "papermill": {
          "duration": 0.01448,
          "end_time": "2023-04-25T10:49:10.395118",
          "exception": false,
          "start_time": "2023-04-25T10:49:10.380638",
          "status": "completed"
        },
        "tags": [],
        "id": "de05ec96"
      },
      "source": [
        "## Gradient Boosting"
      ]
    },
    {
      "cell_type": "code",
      "execution_count": 32,
      "id": "40329795",
      "metadata": {
        "execution": {
          "iopub.execute_input": "2023-04-25T10:49:10.426097Z",
          "iopub.status.busy": "2023-04-25T10:49:10.425304Z",
          "iopub.status.idle": "2023-04-25T10:49:28.337203Z",
          "shell.execute_reply": "2023-04-25T10:49:28.335949Z"
        },
        "papermill": {
          "duration": 17.930061,
          "end_time": "2023-04-25T10:49:28.339417",
          "exception": false,
          "start_time": "2023-04-25T10:49:10.409356",
          "status": "completed"
        },
        "tags": [],
        "colab": {
          "base_uri": "https://localhost:8080/"
        },
        "id": "40329795",
        "outputId": "34f68eb9-1503-4cce-c80f-0379462ab66f"
      },
      "outputs": [
        {
          "output_type": "stream",
          "name": "stdout",
          "text": [
            "Training score: 0.7733961994570653\n",
            "Testing score: 0.7466666666666667\n"
          ]
        },
        {
          "output_type": "execute_result",
          "data": {
            "text/plain": [
              "{'n_estimators': 10, 'max_features': 8, 'max_depth': 200, 'learning_rate': 4}"
            ]
          },
          "metadata": {},
          "execution_count": 32
        }
      ],
      "source": [
        "model3 = RandomizedSearchCV(GradientBoostingClassifier(),{\"learning_rate\": range(3,5),\n",
        "                \"max_depth\":[200],\"max_features\":range(6,10,2),\n",
        "                 \"n_estimators\":[10]},random_state=8,n_jobs=-1)\n",
        "model3.fit(X_train,y_train)\n",
        "print('Training score:',model3.score(X_train,y_train))\n",
        "print('Testing score:',model3.score(X_test,y_test))\n",
        "model3.best_params_"
      ]
    },
    {
      "cell_type": "code",
      "execution_count": 33,
      "id": "b5667f96",
      "metadata": {
        "execution": {
          "iopub.execute_input": "2023-04-25T10:49:28.371272Z",
          "iopub.status.busy": "2023-04-25T10:49:28.370938Z",
          "iopub.status.idle": "2023-04-25T10:49:28.743812Z",
          "shell.execute_reply": "2023-04-25T10:49:28.742415Z"
        },
        "papermill": {
          "duration": 0.3953,
          "end_time": "2023-04-25T10:49:28.749903",
          "exception": false,
          "start_time": "2023-04-25T10:49:28.354603",
          "status": "completed"
        },
        "tags": [],
        "colab": {
          "base_uri": "https://localhost:8080/"
        },
        "id": "b5667f96",
        "outputId": "473f1a52-5156-4f7c-ff22-20df4e765915"
      },
      "outputs": [
        {
          "output_type": "stream",
          "name": "stdout",
          "text": [
            "              precision    recall  f1-score   support\n",
            "\n",
            " non-suicide       0.70      0.90      0.79      1542\n",
            "     suicide       0.85      0.58      0.69      1458\n",
            "\n",
            "    accuracy                           0.75      3000\n",
            "   macro avg       0.77      0.74      0.74      3000\n",
            "weighted avg       0.77      0.75      0.74      3000\n",
            "\n"
          ]
        }
      ],
      "source": [
        "#confusion matrix and classification report\n",
        "y_act=y_test\n",
        "y_pred=model3.predict(X_test)\n",
        "print(classification_report(y_act,y_pred))"
      ]
    },
    {
      "cell_type": "markdown",
      "id": "d38ac48a",
      "metadata": {
        "papermill": {
          "duration": 0.028195,
          "end_time": "2023-04-25T10:49:28.813040",
          "exception": false,
          "start_time": "2023-04-25T10:49:28.784845",
          "status": "completed"
        },
        "tags": [],
        "id": "d38ac48a"
      },
      "source": [
        "## XG Boost"
      ]
    },
    {
      "cell_type": "code",
      "execution_count": 34,
      "id": "14c78aba",
      "metadata": {
        "execution": {
          "iopub.execute_input": "2023-04-25T10:49:28.867502Z",
          "iopub.status.busy": "2023-04-25T10:49:28.866621Z",
          "iopub.status.idle": "2023-04-25T10:50:36.320863Z",
          "shell.execute_reply": "2023-04-25T10:50:36.319513Z"
        },
        "papermill": {
          "duration": 67.498025,
          "end_time": "2023-04-25T10:50:36.333901",
          "exception": false,
          "start_time": "2023-04-25T10:49:28.835876",
          "status": "completed"
        },
        "tags": [],
        "colab": {
          "base_uri": "https://localhost:8080/"
        },
        "id": "14c78aba",
        "outputId": "97606dcb-6a33-4c23-b7b1-5df61099aa5b"
      },
      "outputs": [
        {
          "output_type": "stream",
          "name": "stdout",
          "text": [
            "Training score: 0.8555507929704244\n",
            "Testing score: 0.7883333333333333\n"
          ]
        }
      ],
      "source": [
        "model = XGBClassifier( eval_metric='map',max_depth=200,n_estimators=70,learning_rate=1.99)\n",
        "model.fit(X_train,y_train.replace({\"non-suicide\":0,'suicide':1}))\n",
        "print('Training score:',model.score(X_train,y_train.replace({\"non-suicide\":0,'suicide':1})))\n",
        "print('Testing score:',model.score(X_test,y_test.replace({\"non-suicide\":0,'suicide':1})))"
      ]
    },
    {
      "cell_type": "code",
      "execution_count": 35,
      "id": "f0b8e9cc",
      "metadata": {
        "execution": {
          "iopub.execute_input": "2023-04-25T10:50:36.366169Z",
          "iopub.status.busy": "2023-04-25T10:50:36.365195Z",
          "iopub.status.idle": "2023-04-25T10:50:36.669589Z",
          "shell.execute_reply": "2023-04-25T10:50:36.668500Z"
        },
        "papermill": {
          "duration": 0.323042,
          "end_time": "2023-04-25T10:50:36.671904",
          "exception": false,
          "start_time": "2023-04-25T10:50:36.348862",
          "status": "completed"
        },
        "tags": [],
        "colab": {
          "base_uri": "https://localhost:8080/"
        },
        "id": "f0b8e9cc",
        "outputId": "3fd96411-499f-4e20-9130-051536b77671"
      },
      "outputs": [
        {
          "output_type": "stream",
          "name": "stdout",
          "text": [
            "              precision    recall  f1-score   support\n",
            "\n",
            "           0       0.77      0.83      0.80      1542\n",
            "           1       0.81      0.74      0.77      1458\n",
            "\n",
            "    accuracy                           0.79      3000\n",
            "   macro avg       0.79      0.79      0.79      3000\n",
            "weighted avg       0.79      0.79      0.79      3000\n",
            "\n"
          ]
        }
      ],
      "source": [
        "#matrix\n",
        "y_act = y_test.replace({\"non-suicide\":0,'suicide':1})\n",
        "y_pred = model.predict(X_test)\n",
        "print(classification_report(y_act,y_pred))"
      ]
    },
    {
      "cell_type": "markdown",
      "source": [
        "# Logistic Regression"
      ],
      "metadata": {
        "id": "Eq00o0GJx0qK"
      },
      "id": "Eq00o0GJx0qK"
    },
    {
      "cell_type": "code",
      "source": [
        "from sklearn.linear_model import LogisticRegression\n",
        "logistic_regression = LogisticRegression()\n",
        "logistic_regression.fit(X_train, y_train)\n",
        "\n",
        "y_pred = logistic_regression.predict(X_test)\n"
      ],
      "metadata": {
        "id": "_sug-AnHxsqx"
      },
      "id": "_sug-AnHxsqx",
      "execution_count": 36,
      "outputs": []
    },
    {
      "cell_type": "code",
      "source": [
        "print(classification_report(y_test, y_pred))"
      ],
      "metadata": {
        "colab": {
          "base_uri": "https://localhost:8080/"
        },
        "id": "89jl0GDXxxAJ",
        "outputId": "7029fead-9889-45cd-c6e2-14c7eec3c673"
      },
      "id": "89jl0GDXxxAJ",
      "execution_count": 37,
      "outputs": [
        {
          "output_type": "stream",
          "name": "stdout",
          "text": [
            "              precision    recall  f1-score   support\n",
            "\n",
            " non-suicide       0.89      0.93      0.91      1542\n",
            "     suicide       0.92      0.88      0.90      1458\n",
            "\n",
            "    accuracy                           0.91      3000\n",
            "   macro avg       0.91      0.90      0.91      3000\n",
            "weighted avg       0.91      0.91      0.91      3000\n",
            "\n"
          ]
        }
      ]
    },
    {
      "cell_type": "markdown",
      "source": [
        "# Label Encoding"
      ],
      "metadata": {
        "id": "3wD9FYAI8Imh"
      },
      "id": "3wD9FYAI8Imh"
    },
    {
      "cell_type": "code",
      "source": [
        "from sklearn.preprocessing import LabelEncoder\n",
        "\n",
        "label_encoder = LabelEncoder()\n",
        "y_train_encoded = label_encoder.fit_transform(y_train)\n",
        "\n"
      ],
      "metadata": {
        "id": "JVZf_7500ac9"
      },
      "id": "JVZf_7500ac9",
      "execution_count": 52,
      "outputs": []
    },
    {
      "cell_type": "code",
      "source": [
        "print(set(y_train_encoded))\n"
      ],
      "metadata": {
        "colab": {
          "base_uri": "https://localhost:8080/"
        },
        "id": "DC9LtnG00-9O",
        "outputId": "50b03b75-6d30-4a66-d305-b51ed4728d4b"
      },
      "id": "DC9LtnG00-9O",
      "execution_count": 53,
      "outputs": [
        {
          "output_type": "stream",
          "name": "stdout",
          "text": [
            "{0, 1}\n"
          ]
        }
      ]
    },
    {
      "cell_type": "markdown",
      "source": [
        "#CNN"
      ],
      "metadata": {
        "id": "Q91Pz6pR8F68"
      },
      "id": "Q91Pz6pR8F68"
    },
    {
      "cell_type": "code",
      "source": [
        "from tensorflow.keras.models import Sequential\n",
        "from tensorflow.keras.layers import Embedding, Conv1D, GlobalMaxPooling1D, Dense\n",
        "from tensorflow.keras.preprocessing.text import Tokenizer\n",
        "from tensorflow.keras.preprocessing.sequence import pad_sequences\n",
        "\n",
        "\n",
        "\n",
        "tokenizer = Tokenizer()\n",
        "tokenizer.fit_on_texts(dfnew['text'])\n",
        "X_sequence = tokenizer.texts_to_sequences(dfnew['text'])\n",
        "X_padded = pad_sequences(X_sequence)             # Padding sequences to make of same length\n",
        "X_train, X_test, y_train, y_test = train_test_split(X_padded, y, test_size=0.2, random_state=42)\n",
        "\n",
        "# Creating Model\n",
        "model = Sequential()\n",
        "model.add(Embedding(input_dim=len(tokenizer.word_index) + 1, output_dim=128, input_length=X_padded.shape[1]))\n",
        "model.add(Conv1D(64, 3, activation='relu'))\n",
        "model.add(GlobalMaxPooling1D())\n",
        "model.add(Dense(1, activation='sigmoid'))\n",
        "\n",
        "# Compiling model\n",
        "model.compile(optimizer='adam', loss='binary_crossentropy', metrics=['accuracy'])\n",
        "\n",
        "# Fitting of the model\n",
        "model.fit(X_train, y_train_encoded, epochs=5, batch_size=64, validation_split=0.1)\n",
        "\n"
      ],
      "metadata": {
        "colab": {
          "base_uri": "https://localhost:8080/"
        },
        "id": "30OSrLxyx_Yi",
        "outputId": "994e8f36-c7cf-4a32-a785-b61f7fdb196f"
      },
      "id": "30OSrLxyx_Yi",
      "execution_count": 56,
      "outputs": [
        {
          "output_type": "stream",
          "name": "stdout",
          "text": [
            "Epoch 1/5\n",
            "113/113 [==============================] - 157s 1s/step - loss: 0.4807 - accuracy: 0.7854 - val_loss: 0.2877 - val_accuracy: 0.8850\n",
            "Epoch 2/5\n",
            "113/113 [==============================] - 156s 1s/step - loss: 0.2249 - accuracy: 0.9147 - val_loss: 0.2243 - val_accuracy: 0.9150\n",
            "Epoch 3/5\n",
            "113/113 [==============================] - 153s 1s/step - loss: 0.1239 - accuracy: 0.9614 - val_loss: 0.2113 - val_accuracy: 0.9137\n",
            "Epoch 4/5\n",
            "113/113 [==============================] - 166s 1s/step - loss: 0.0672 - accuracy: 0.9828 - val_loss: 0.2141 - val_accuracy: 0.9075\n",
            "Epoch 5/5\n",
            "113/113 [==============================] - 171s 2s/step - loss: 0.0353 - accuracy: 0.9929 - val_loss: 0.2288 - val_accuracy: 0.9087\n"
          ]
        },
        {
          "output_type": "execute_result",
          "data": {
            "text/plain": [
              "<keras.src.callbacks.History at 0x796d9f97e770>"
            ]
          },
          "metadata": {},
          "execution_count": 56
        }
      ]
    },
    {
      "cell_type": "code",
      "execution_count": 41,
      "id": "829a4538",
      "metadata": {
        "execution": {
          "iopub.execute_input": "2023-04-25T10:52:17.575321Z",
          "iopub.status.busy": "2023-04-25T10:52:17.574969Z",
          "iopub.status.idle": "2023-04-25T10:52:17.580908Z",
          "shell.execute_reply": "2023-04-25T10:52:17.579963Z"
        },
        "papermill": {
          "duration": 0.025037,
          "end_time": "2023-04-25T10:52:17.583086",
          "exception": false,
          "start_time": "2023-04-25T10:52:17.558049",
          "status": "completed"
        },
        "tags": [],
        "id": "829a4538"
      },
      "outputs": [],
      "source": [
        "# save the Model\n",
        "with open('best_model.pkl', 'wb') as f:\n",
        "    pickle.dump(VotingClassifiers, f)"
      ]
    },
    {
      "cell_type": "code",
      "execution_count": 42,
      "id": "04c22db6",
      "metadata": {
        "execution": {
          "iopub.execute_input": "2023-04-25T10:52:17.616143Z",
          "iopub.status.busy": "2023-04-25T10:52:17.615317Z",
          "iopub.status.idle": "2023-04-25T10:52:17.621455Z",
          "shell.execute_reply": "2023-04-25T10:52:17.620559Z"
        },
        "papermill": {
          "duration": 0.024942,
          "end_time": "2023-04-25T10:52:17.623618",
          "exception": false,
          "start_time": "2023-04-25T10:52:17.598676",
          "status": "completed"
        },
        "tags": [],
        "id": "04c22db6"
      },
      "outputs": [],
      "source": [
        "def preprocess(inp):\n",
        "    inp = inp.lower() #convert to lower case\n",
        "    inp = inp.replace(r'[^\\w\\s]+', '') #remove punctuations\n",
        "    inp = [word for word in inp.split() if word not in (stop_words)] #tokenize the sentence\n",
        "    inp = ' '.join([ps.stem(i) for i in inp]) #stremming\n",
        "    inputToModel = vectorizer.transform([inp]).toarray() #transform to vector form\n",
        "    return inputToModel"
      ]
    },
    {
      "cell_type": "code",
      "execution_count": 43,
      "id": "b4ea333c",
      "metadata": {
        "execution": {
          "iopub.execute_input": "2023-04-25T10:52:17.656765Z",
          "iopub.status.busy": "2023-04-25T10:52:17.655795Z",
          "iopub.status.idle": "2023-04-25T10:52:17.661317Z",
          "shell.execute_reply": "2023-04-25T10:52:17.660469Z"
        },
        "papermill": {
          "duration": 0.024021,
          "end_time": "2023-04-25T10:52:17.663328",
          "exception": false,
          "start_time": "2023-04-25T10:52:17.639307",
          "status": "completed"
        },
        "tags": [],
        "id": "b4ea333c"
      },
      "outputs": [],
      "source": [
        "def app(input_text):\n",
        "    # Define the input text box\n",
        "    print('Input : ',input_text) #take input from user\n",
        "    processed_array = preprocess(input_text) #preprocess the text\n",
        "    predict = VotingClassifiers.predict(processed_array) #Model prediction\n",
        "    print('Output : ', predict[0])"
      ]
    },
    {
      "cell_type": "code",
      "execution_count": 46,
      "id": "6ea8b85a",
      "metadata": {
        "execution": {
          "iopub.execute_input": "2023-04-25T10:52:17.696004Z",
          "iopub.status.busy": "2023-04-25T10:52:17.695207Z",
          "iopub.status.idle": "2023-04-25T10:52:17.703649Z",
          "shell.execute_reply": "2023-04-25T10:52:17.702383Z"
        },
        "papermill": {
          "duration": 0.026967,
          "end_time": "2023-04-25T10:52:17.705737",
          "exception": false,
          "start_time": "2023-04-25T10:52:17.678770",
          "status": "completed"
        },
        "tags": [],
        "colab": {
          "base_uri": "https://localhost:8080/"
        },
        "id": "6ea8b85a",
        "outputId": "74925e9d-1eb2-4751-e347-1316ff5956e8"
      },
      "outputs": [
        {
          "output_type": "stream",
          "name": "stdout",
          "text": [
            "Input :  I am fetched up with my life i do not want to live anymore\n",
            "Output :  suicide\n"
          ]
        }
      ],
      "source": [
        "app('I am fetched up with my life i do not want to live anymore')"
      ]
    },
    {
      "cell_type": "code",
      "execution_count": 50,
      "id": "c3a94601",
      "metadata": {
        "execution": {
          "iopub.execute_input": "2023-04-25T10:52:17.738608Z",
          "iopub.status.busy": "2023-04-25T10:52:17.737817Z",
          "iopub.status.idle": "2023-04-25T10:52:17.745555Z",
          "shell.execute_reply": "2023-04-25T10:52:17.744264Z"
        },
        "papermill": {
          "duration": 0.026176,
          "end_time": "2023-04-25T10:52:17.747575",
          "exception": false,
          "start_time": "2023-04-25T10:52:17.721399",
          "status": "completed"
        },
        "tags": [],
        "colab": {
          "base_uri": "https://localhost:8080/"
        },
        "id": "c3a94601",
        "outputId": "56ec5e64-ad2e-48cf-f8bb-23640badacc9"
      },
      "outputs": [
        {
          "output_type": "stream",
          "name": "stdout",
          "text": [
            "Input :  poem haiku umegamedev hi hello hello stop fuck.\n",
            "Output :  non-suicide\n"
          ]
        }
      ],
      "source": [
        "app('poem haiku umegamedev hi hello hello stop fuck.')"
      ]
    },
    {
      "cell_type": "code",
      "execution_count": null,
      "id": "37287227",
      "metadata": {
        "papermill": {
          "duration": 0.015507,
          "end_time": "2023-04-25T10:52:17.841970",
          "exception": false,
          "start_time": "2023-04-25T10:52:17.826463",
          "status": "completed"
        },
        "tags": [],
        "id": "37287227"
      },
      "outputs": [],
      "source": []
    }
  ],
  "metadata": {
    "kernelspec": {
      "display_name": "Python 3",
      "language": "python",
      "name": "python3"
    },
    "language_info": {
      "codemirror_mode": {
        "name": "ipython",
        "version": 3
      },
      "file_extension": ".py",
      "mimetype": "text/x-python",
      "name": "python",
      "nbconvert_exporter": "python",
      "pygments_lexer": "ipython3",
      "version": "3.7.12"
    },
    "papermill": {
      "default_parameters": {},
      "duration": 246.381085,
      "end_time": "2023-04-25T10:52:20.478231",
      "environment_variables": {},
      "exception": null,
      "input_path": "__notebook__.ipynb",
      "output_path": "__notebook__.ipynb",
      "parameters": {},
      "start_time": "2023-04-25T10:48:14.097146",
      "version": "2.4.0"
    },
    "colab": {
      "provenance": []
    }
  },
  "nbformat": 4,
  "nbformat_minor": 5
}